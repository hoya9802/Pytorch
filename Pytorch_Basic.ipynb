{
 "cells": [
  {
   "cell_type": "markdown",
   "id": "58cdd8d6-6f07-46b5-9073-0346a5aa5915",
   "metadata": {},
   "source": [
    "# Pytorch similar to Numpy"
   ]
  },
  {
   "cell_type": "code",
   "execution_count": 2,
   "id": "9231ee1a-b7b1-4e1e-94e4-ee4d3ad72259",
   "metadata": {},
   "outputs": [],
   "source": [
    "import torch"
   ]
  },
  {
   "cell_type": "code",
   "execution_count": 3,
   "id": "5eaa7dbe-8428-418b-8ad6-a97b45065c26",
   "metadata": {},
   "outputs": [
    {
     "name": "stdout",
     "output_type": "stream",
     "text": [
      "tensor([1, 2, 3, 4])\n",
      "<class 'torch.Tensor'>\n",
      "torch.int64\n",
      "torch.Size([4])\n",
      "torch.float32\n"
     ]
    }
   ],
   "source": [
    "a = torch.tensor([1, 2, 3, 4])\n",
    "print(a)\n",
    "print(type(a))\n",
    "print(a.dtype)\n",
    "print(a.shape)\n",
    "b = torch.tensor([1, 2, 3.1, 4])\n",
    "print(b.dtype)"
   ]
  },
  {
   "cell_type": "code",
   "execution_count": 4,
   "id": "9931ac6f-f843-4b36-adca-d50ecd2db2f7",
   "metadata": {},
   "outputs": [
    {
     "name": "stdout",
     "output_type": "stream",
     "text": [
      "tensor([[1, 2],\n",
      "        [3, 4]])\n",
      "torch.Size([2, 2])\n",
      "2\n",
      "4\n"
     ]
    }
   ],
   "source": [
    "A = torch.tensor([[1, 2], [3, 4]])\n",
    "# A = torch.tensor([[1, 2], [3, 4, 5]])\n",
    "print(A)\n",
    "print(A.shape)\n",
    "print(A.ndim)\n",
    "print(A.numel()) # if you want to get the same result of A.size of Numpy, you can use A.numel() instead!"
   ]
  },
  {
   "cell_type": "code",
   "execution_count": 5,
   "id": "bfaa3cbd-9b16-436f-a0cb-4a353b4db361",
   "metadata": {},
   "outputs": [
    {
     "name": "stdout",
     "output_type": "stream",
     "text": [
      "tensor([0., 0., 0., 0., 0.])\n",
      "tensor([[0, 0],\n",
      "        [0, 0]])\n",
      "tensor([1., 1., 1., 1., 1.])\n",
      "tensor([[0., 0., 0.],\n",
      "        [0., 0., 0.],\n",
      "        [0., 0., 0.]])\n",
      "tensor([3, 5, 7, 9])\n",
      "tensor([0.0000, 0.1000, 0.2000, 0.3000, 0.4000, 0.5000, 0.6000, 0.7000, 0.8000,\n",
      "        0.9000])\n",
      "tensor([0.0000, 0.1111, 0.2222, 0.3333, 0.4444, 0.5556, 0.6667, 0.7778, 0.8889,\n",
      "        1.0000])\n"
     ]
    }
   ],
   "source": [
    "print(torch.zeros(5))\n",
    "print(torch.zeros_like(A))\n",
    "print(torch.ones(5))\n",
    "print(torch.zeros(3, 3))\n",
    "print(torch.arange(3, 10, 2))\n",
    "print(torch.arange(0, 1, 0.1))\n",
    "print(torch.linspace(0, 1, 10)) # In Torch, endpoint in linspace is not available!"
   ]
  },
  {
   "cell_type": "code",
   "execution_count": 6,
   "id": "76e7d5a4-0aea-4a68-8664-256411aace12",
   "metadata": {},
   "outputs": [
    {
     "name": "stdout",
     "output_type": "stream",
     "text": [
      "tensor([5, 7, 9])\n"
     ]
    }
   ],
   "source": [
    "a = torch.tensor([1, 2, 3])\n",
    "b = torch.tensor([4, 5, 6])\n",
    "c = a + b\n",
    "print(c)"
   ]
  },
  {
   "cell_type": "code",
   "execution_count": 7,
   "id": "c44bb033-a99f-4e6b-bd11-90aebfd5abe7",
   "metadata": {},
   "outputs": [
    {
     "name": "stdout",
     "output_type": "stream",
     "text": [
      "tensor([[5, 7, 9],\n",
      "        [2, 3, 4]])\n",
      "tensor([[-3, -3, -3],\n",
      "        [ 0,  1,  2]])\n",
      "\n",
      "tensor([[ 4, 10, 18],\n",
      "        [ 1,  2,  3]])\n",
      "tensor([[0.2500, 0.4000, 0.5000],\n",
      "        [1.0000, 2.0000, 3.0000]])\n",
      "tensor([[16, 25, 36],\n",
      "        [ 1,  1,  1]])\n"
     ]
    }
   ],
   "source": [
    "A = torch.tensor([[1, 2, 3], [1, 2, 3]])\n",
    "B = torch.tensor([[4, 5, 6], [1, 1, 1]])\n",
    "C = A+B\n",
    "D = A-B\n",
    "print(C)\n",
    "print(D)\n",
    "print()\n",
    "print(A*B)\n",
    "print(A/B)\n",
    "print(B**2)"
   ]
  },
  {
   "cell_type": "code",
   "execution_count": 8,
   "id": "0cb2ae02-8c15-4df8-b586-eb0253f6c7cf",
   "metadata": {},
   "outputs": [
    {
     "name": "stdout",
     "output_type": "stream",
     "text": [
      "tensor([[ 1,  4],\n",
      "        [ 9, 16]])\n",
      "tensor([[ 7, 10],\n",
      "        [15, 22]])\n"
     ]
    }
   ],
   "source": [
    "A = torch.tensor([[1, 2], [3, 4]])\n",
    "B = torch.tensor([[1, 2], [3, 4]])\n",
    "print(A*B)\n",
    "print(A@B)"
   ]
  },
  {
   "cell_type": "code",
   "execution_count": 9,
   "id": "e882ecdb-d2f3-45f3-8c1c-71f15d80826b",
   "metadata": {},
   "outputs": [
    {
     "name": "stdout",
     "output_type": "stream",
     "text": [
      "tensor(1)\n",
      "tensor(2)\n",
      "tensor(9)\n",
      "tensor([2, 3, 4])\n",
      "tensor(8)\n",
      "tensor([8, 9])\n",
      "tensor([1, 2, 3, 4, 5, 6, 7])\n",
      "tensor([1, 2, 3, 4, 5, 6, 7, 8, 9])\n"
     ]
    }
   ],
   "source": [
    "a = torch.tensor([1, 2, 3, 4, 5, 6, 7, 8, 9])\n",
    "print(a[0])\n",
    "print(a[1])\n",
    "print(a[-1])\n",
    "print(a[1:4])\n",
    "print(a[7])\n",
    "print(a[7:])\n",
    "print(a[:7])\n",
    "print(a[:])"
   ]
  },
  {
   "cell_type": "code",
   "execution_count": 10,
   "id": "5436f61d-6453-4eab-ae13-9df0daa32ad3",
   "metadata": {},
   "outputs": [
    {
     "name": "stdout",
     "output_type": "stream",
     "text": [
      "tensor([1, 2, 3])\n",
      "tensor([7, 8, 9])\n",
      "tensor([[4, 5, 6],\n",
      "        [7, 8, 9]])\n",
      "tensor([[1, 2, 3],\n",
      "        [4, 5, 6],\n",
      "        [7, 8, 9]])\n",
      "tensor(3)\n",
      "tensor(3)\n",
      "[[1, 2, 3, 4], [5, 6, 7, 8]]\n",
      "3\n",
      "tensor([4, 5, 6])\n",
      "tensor([4, 6])\n",
      "tensor([3, 6, 9])\n",
      "tensor([7, 8, 9])\n"
     ]
    }
   ],
   "source": [
    "A = torch.tensor([[1, 2, 3],[4, 5, 6], [7, 8, 9]])\n",
    "print(A[0])\n",
    "print(A[-1])\n",
    "print(A[1:])\n",
    "print(A[:])\n",
    "print(A[0][2])\n",
    "print(A[0, 2])\n",
    "B = [[1, 2, 3, 4], [5, 6, 7, 8]]\n",
    "print(B)\n",
    "print(B[0][2])\n",
    "print(A[1,:])\n",
    "print(A[1,0:3:2])\n",
    "print(A[:,2])\n",
    "print(A[:][2])"
   ]
  },
  {
   "cell_type": "code",
   "execution_count": 11,
   "id": "10409cc5-c6da-4caa-9990-7a5a7d56f6f7",
   "metadata": {},
   "outputs": [
    {
     "name": "stdout",
     "output_type": "stream",
     "text": [
      "tensor([[[ 0,  1,  2,  3],\n",
      "         [ 4,  5,  6,  7],\n",
      "         [ 8,  9, 10, 11]],\n",
      "\n",
      "        [[12, 13, 14, 15],\n",
      "         [16, 17, 18, 19],\n",
      "         [20, 21, 22, 23]]])\n",
      "torch.Size([2, 3, 4])\n",
      "tensor(6)\n",
      "torch.Size([1, 1, 4])\n"
     ]
    }
   ],
   "source": [
    "A = torch.tensor([[[0,1,2,3],[4,5,6,7],[8,9,10,11]],\n",
    "                  [[12,13,14,15],[16,17,18,19],[20,21,22,23]]])\n",
    "print(A)\n",
    "print(A.shape)\n",
    "print(A[0,1,2])\n",
    "\n",
    "a = torch.tensor([[[1,2,3,4]]])\n",
    "print(a.shape)"
   ]
  },
  {
   "cell_type": "code",
   "execution_count": 12,
   "id": "8ae99f63-78f6-4328-82d7-5e71191c46f3",
   "metadata": {},
   "outputs": [
    {
     "name": "stdout",
     "output_type": "stream",
     "text": [
      "False\n",
      "tensor([[False, False,  True, False],\n",
      "        [False,  True, False,  True]])\n",
      "tensor([3, 3, 3])\n",
      "tensor([[  1,   2, 100,   4],\n",
      "        [  5, 100,   7, 100]])\n",
      "tensor([[1, 2],\n",
      "        [7, 8]])\n",
      "tensor([1, 2])\n"
     ]
    }
   ],
   "source": [
    "# boolean indexing\n",
    "a = [1,2,3,4,5,3,3]\n",
    "print(a==3) # False: it's because type of a is list and \"3\" is just str. list is not equal to str\n",
    "A = torch.tensor([[1,2,3,4], [5,3,7,3]])\n",
    "print(A == 3) # it works in Pytorch!\n",
    "print(A[A==3])\n",
    "\n",
    "A[A==3] = 100\n",
    "print(A)\n",
    "\n",
    "A = torch.tensor([[1,2],[3,4],[5,6],[7,8]])\n",
    "B = [True, False, False, True]\n",
    "print(A[B, :])\n",
    "\n",
    "b = torch.tensor([1,2,3,4])\n",
    "print(b[[True, True, False, False]]) # The version of inserting list into pytorch index of b"
   ]
  },
  {
   "cell_type": "code",
   "execution_count": 13,
   "id": "84fb3a56-4e9a-4df8-9b59-94a69989bb74",
   "metadata": {},
   "outputs": [
    {
     "name": "stdout",
     "output_type": "stream",
     "text": [
      "tensor(3)\n",
      "tensor(3)\n",
      "tensor([3, 4, 5])\n",
      "tensor([[3, 3, 3],\n",
      "        [4, 4, 4]])\n",
      "tensor([1, 2, 3])\n",
      "torch.Size([2, 2, 3])\n",
      "tensor([[[1, 2, 3],\n",
      "         [4, 5, 6]],\n",
      "\n",
      "        [[4, 5, 6],\n",
      "         [4, 5, 6]]])\n"
     ]
    }
   ],
   "source": [
    "# tensor indexing\n",
    "a = torch.tensor([1,2,3,4,5])\n",
    "A = a[2]\n",
    "print(A)\n",
    "A = a[torch.tensor(2)]\n",
    "print(A)\n",
    "A = a[torch.tensor([2,3,4])]\n",
    "print(A)\n",
    "A = a[torch.tensor([[2,2,2],[3,3,3]])]\n",
    "print(A)\n",
    "\n",
    "a = torch.tensor([[1,2,3],[4,5,6]])\n",
    "print(a[0])\n",
    "A = a[torch.tensor([[0,1],[1,1]])]\n",
    "print(A.shape)\n",
    "print(A)"
   ]
  },
  {
   "cell_type": "code",
   "execution_count": 14,
   "id": "5f1bcdb5-78a3-4b11-9fb4-0643f24e7558",
   "metadata": {},
   "outputs": [
    {
     "name": "stdout",
     "output_type": "stream",
     "text": [
      "tensor([[1, 2],\n",
      "        [3, 4],\n",
      "        [5, 6],\n",
      "        [7, 8]])\n",
      "torch.Size([4, 2])\n",
      "tensor(2)\n",
      "tensor([2, 6, 7])\n",
      "tensor([2])\n",
      "tensor([2])\n",
      "tensor([[3, 4],\n",
      "        [3, 4],\n",
      "        [5, 6],\n",
      "        [5, 6],\n",
      "        [5, 6]])\n",
      "tensor([[[1, 2],\n",
      "         [3, 4]],\n",
      "\n",
      "        [[5, 6],\n",
      "         [7, 8]]])\n",
      "torch.Size([2, 2, 2])\n"
     ]
    }
   ],
   "source": [
    "A = torch.tensor([[1,2],[3,4],[5,6],[7,8]])\n",
    "print(A)\n",
    "print(A.shape)\n",
    "\n",
    "# 1. A[row, column]\n",
    "print(A[0, 1])\n",
    "# 2. A[ tensor(bool)] => bool list should be same with shape of A\n",
    "print(A[torch.tensor([[False, True],[False, False],[False,True],[True, False]])])\n",
    "print(A[A==2])\n",
    "# 3. A[which index does True occur, which index does True occur]\n",
    "print(A[[True, False, False, False], [False, True]])\n",
    "# 4. A[tensor] => how do you stack the index of your choice\n",
    "print(A[torch.tensor([1,1,2,2,2])])\n",
    "\n",
    "print(A[torch.tensor([[0, 1], [2, 3]])])\n",
    "print(A[torch.tensor([[0, 1], [2, 3]])].shape)"
   ]
  },
  {
   "cell_type": "code",
   "execution_count": 15,
   "id": "6446ecf0-be2e-4adb-b212-9ffaa32a252b",
   "metadata": {},
   "outputs": [
    {
     "name": "stdout",
     "output_type": "stream",
     "text": [
      "tensor([[ 0.4713,  1.0467,  0.7294],\n",
      "        [-0.2842,  1.3509,  0.7317],\n",
      "        [ 0.2197,  1.1927, -0.2353]])\n",
      "tensor([[0.4622, 0.0936, 0.1350],\n",
      "        [0.3249, 0.2760, 0.8589],\n",
      "        [0.9934, 0.8472, 0.0057]])\n",
      "tensor([ 0.4713, -0.2842,  0.2197])\n",
      "tensor([[-0.2842,  1.3509,  0.7317]])\n"
     ]
    }
   ],
   "source": [
    "# Don't need \".random\"\n",
    "A = torch.randn(3, 3) # randn => random number of normal distribution\n",
    "B = torch.rand(3, 3) # rand => random number(0 to 1) of uniform. Only Get positive real number\n",
    "print(A)\n",
    "print(B)\n",
    "print(A[:,0])\n",
    "print(A[A[:,0]<0, :])"
   ]
  },
  {
   "cell_type": "code",
   "execution_count": 16,
   "id": "d0892c53-b6ca-473a-b7c6-083de7ded4f9",
   "metadata": {},
   "outputs": [
    {
     "name": "stdout",
     "output_type": "stream",
     "text": [
      "tensor([[ 0.2824,  0.0221, -1.2431],\n",
      "        [-0.6493, -0.0385,  0.6030],\n",
      "        [ 0.5917, -0.4490, -1.5300]])\n",
      "tensor([[0.2824, 0.0221, 1.2431],\n",
      "        [0.6493, 0.0385, 0.6030],\n",
      "        [0.5917, 0.4490, 1.5300]])\n",
      "tensor([[0.5314, 0.1487, 1.1149],\n",
      "        [0.8058, 0.1962, 0.7765],\n",
      "        [0.7692, 0.6701, 1.2369]])\n",
      "tensor(2.7183)\n",
      "tensor([[-1.2643, -3.8118,  0.2176],\n",
      "        [-0.4319, -3.2568, -0.5058],\n",
      "        [-0.5247, -0.8007,  0.4253]])\n",
      "tensor(1.0000)\n",
      "tensor(1.)\n",
      "tensor(1.)\n",
      "tensor([[ 0.,  0., -1.],\n",
      "        [-1., -0.,  1.],\n",
      "        [ 1., -0., -2.]])\n",
      "tensor([[ 0.2800,  0.0200, -1.2400],\n",
      "        [-0.6500, -0.0400,  0.6000],\n",
      "        [ 0.5900, -0.4500, -1.5300]])\n",
      "tensor([[ 0.,  0., -2.],\n",
      "        [-1., -1.,  0.],\n",
      "        [ 0., -1., -2.]])\n",
      "tensor([[ 1.,  1., -1.],\n",
      "        [-0., -0.,  1.],\n",
      "        [ 1., -0., -1.]])\n"
     ]
    }
   ],
   "source": [
    "A = torch.randn(3,3)\n",
    "print(A)\n",
    "print(torch.abs(A))\n",
    "print(torch.sqrt(torch.abs(A)))\n",
    "print(torch.exp(torch.tensor(1))) # e^1\n",
    "print(torch.log(torch.abs(A)))\n",
    "print(torch.log(torch.exp(torch.tensor(1)))) # log_e(e^1)\n",
    "print(torch.log10(torch.tensor(10)))\n",
    "print(torch.log2(torch.tensor(2)))\n",
    "print(torch.round(A))\n",
    "print(torch.round(A, decimals=2)) # up to the second decimal place\n",
    "print(torch.floor(A)) # round up\n",
    "print(torch.ceil(A)) # round down"
   ]
  },
  {
   "cell_type": "code",
   "execution_count": 17,
   "id": "1714d23e-3ee4-4fa2-9f54-b54a1328be41",
   "metadata": {},
   "outputs": [
    {
     "name": "stdout",
     "output_type": "stream",
     "text": [
      "tensor(0.5000)\n",
      "tensor(0.5000)\n",
      "tensor(1.)\n",
      "tensor(-1.)\n"
     ]
    },
    {
     "data": {
      "text/plain": [
       "torch.Tensor"
      ]
     },
     "execution_count": 17,
     "metadata": {},
     "output_type": "execute_result"
    }
   ],
   "source": [
    "# torch.pi is originally float but if you try to calculate with torch.tensor() then it would be change tensor\n",
    "print(torch.sin(torch.tensor(torch.pi/6)))\n",
    "print(torch.cos(torch.tensor(torch.pi/3)))\n",
    "print(torch.tan(torch.tensor(torch.pi/4)))\n",
    "print(torch.tanh(torch.tensor(-10)))\n",
    "\n",
    "type(torch.tensor(1)/6)"
   ]
  },
  {
   "cell_type": "code",
   "execution_count": 18,
   "id": "08ba2645-e7b0-46c2-a07e-0334c0aad696",
   "metadata": {},
   "outputs": [
    {
     "name": "stdout",
     "output_type": "stream",
     "text": [
      "tensor(nan)\n",
      "tensor([False, False,  True, False, False])\n",
      "tensor([False, False, False, False,  True])\n"
     ]
    }
   ],
   "source": [
    "torch.nan\n",
    "print(torch.log(torch.tensor(-1)))\n",
    "print(torch.isnan(torch.tensor([1,2,torch.nan,3,4]))) # you can check if there has non-number\n",
    "print(torch.isinf(torch.tensor([1,2,3,4,torch.inf])))"
   ]
  },
  {
   "cell_type": "code",
   "execution_count": 19,
   "id": "b0fdc3bf-292b-4fad-a136-b0f7a65232d0",
   "metadata": {},
   "outputs": [
    {
     "name": "stdout",
     "output_type": "stream",
     "text": [
      "tensor([[-0.0896,  0.4660,  0.7510,  1.5004],\n",
      "        [-1.8464, -0.2739,  0.4454,  1.0037],\n",
      "        [ 0.1151,  0.0196,  0.3537,  0.3668]])\n",
      "tensor(1.5004)\n",
      "torch.return_types.max(\n",
      "values=tensor([0.1151, 0.4660, 0.7510, 1.5004]),\n",
      "indices=tensor([2, 0, 0, 0]))\n",
      "torch.return_types.max(\n",
      "values=tensor([1.5004, 1.0037, 0.3668]),\n",
      "indices=tensor([3, 3, 3]))\n",
      "torch.return_types.max(\n",
      "values=tensor([[0.1151, 0.4660, 0.7510, 1.5004]]),\n",
      "indices=tensor([[2, 0, 0, 0]]))\n",
      "torch.return_types.max(\n",
      "values=tensor([[1.5004],\n",
      "        [1.0037],\n",
      "        [0.3668]]),\n",
      "indices=tensor([[3],\n",
      "        [3],\n",
      "        [3]]))\n",
      "tensor(-1.8464)\n",
      "torch.return_types.min(\n",
      "values=tensor([-1.8464, -0.2739,  0.3537,  0.3668]),\n",
      "indices=tensor([1, 1, 2, 2]))\n",
      "torch.return_types.min(\n",
      "values=tensor([-0.0896, -1.8464,  0.0196]),\n",
      "indices=tensor([0, 0, 1]))\n",
      "tensor(3)\n",
      "tensor([2, 0, 0, 0])\n",
      "tensor([3, 3, 3])\n"
     ]
    }
   ],
   "source": [
    "A=torch.randn(3,4)\n",
    "print(A)\n",
    "print(torch.max(A))\n",
    "print(torch.max(A,dim=0)) # this function change into one dimension tensor\n",
    "print(torch.max(A,dim=1))\n",
    "print(torch.max(A,dim=0, keepdims=True)) # this function show the result without changing demension\n",
    "print(torch.max(A,dim=1, keepdims=True))\n",
    "\n",
    "print(torch.min(A))\n",
    "print(torch.min(A,dim=0))\n",
    "print(torch.min(A,dim=1))\n",
    "print(torch.argmax(A))\n",
    "print(torch.argmax(A,dim=0)) # argmax => you can get the index of highest number in Tensor!\n",
    "print(torch.argmax(A,dim=1))"
   ]
  },
  {
   "cell_type": "code",
   "execution_count": 20,
   "id": "a5b05217-2245-40f7-bf87-77f76df5fa32",
   "metadata": {},
   "outputs": [
    {
     "name": "stdout",
     "output_type": "stream",
     "text": [
      "tensor([[ 0.8381],\n",
      "        [ 0.5763],\n",
      "        [ 0.4711],\n",
      "        [ 0.4936],\n",
      "        [-0.6666],\n",
      "        [ 0.0524]])\n",
      "torch.return_types.sort(\n",
      "values=tensor([[-0.6666],\n",
      "        [ 0.0524],\n",
      "        [ 0.4711],\n",
      "        [ 0.4936],\n",
      "        [ 0.5763],\n",
      "        [ 0.8381]]),\n",
      "indices=tensor([[4],\n",
      "        [5],\n",
      "        [2],\n",
      "        [3],\n",
      "        [1],\n",
      "        [0]]))\n",
      "tensor([[4],\n",
      "        [5],\n",
      "        [2],\n",
      "        [3],\n",
      "        [1],\n",
      "        [0]])\n",
      "tensor([[-1.2937],\n",
      "        [-0.6749],\n",
      "        [-0.3170],\n",
      "        [-0.8317],\n",
      "        [ 1.4240],\n",
      "        [ 0.5639]])\n",
      "torch.return_types.sort(\n",
      "values=tensor([[-1.2937],\n",
      "        [-0.8317],\n",
      "        [-0.6749],\n",
      "        [-0.3170],\n",
      "        [ 0.5639],\n",
      "        [ 1.4240]]),\n",
      "indices=tensor([[0],\n",
      "        [3],\n",
      "        [1],\n",
      "        [2],\n",
      "        [5],\n",
      "        [4]]))\n",
      "torch.return_types.sort(\n",
      "values=tensor([[ 1.4240],\n",
      "        [ 0.5639],\n",
      "        [-0.3170],\n",
      "        [-0.6749],\n",
      "        [-0.8317],\n",
      "        [-1.2937]]),\n",
      "indices=tensor([[4],\n",
      "        [5],\n",
      "        [2],\n",
      "        [1],\n",
      "        [3],\n",
      "        [0]]))\n",
      "####################################################################################################\n",
      "tensor(1.4240)\n",
      "tensor(1.4240)\n",
      "tensor([[1.2937],\n",
      "        [0.6749],\n",
      "        [0.3170],\n",
      "        [0.8317],\n",
      "        [1.4240],\n",
      "        [0.5639]])\n",
      "tensor([[1.2937],\n",
      "        [0.6749],\n",
      "        [0.3170],\n",
      "        [0.8317],\n",
      "        [1.4240],\n",
      "        [0.5639]])\n"
     ]
    }
   ],
   "source": [
    "A = torch.randn(6,1)\n",
    "print(A)\n",
    "a_sorted = torch.sort(A, dim=0)\n",
    "print(a_sorted)\n",
    "# you can only get indices of sorted tensor\n",
    "print(a_sorted[1])\n",
    "\n",
    "a = torch.randn(6,1)\n",
    "print(a)\n",
    "print(a.sort(dim=0))\n",
    "print(a.sort(dim=0, descending=True))\n",
    "\n",
    "print('#'*100)\n",
    "print(torch.max(a))\n",
    "print(a.max())\n",
    "print(torch.abs(a))\n",
    "print(a.abs())"
   ]
  },
  {
   "cell_type": "code",
   "execution_count": 21,
   "id": "c9b978e2-6860-460e-b19b-0cbb12f7aa9f",
   "metadata": {},
   "outputs": [
    {
     "name": "stdout",
     "output_type": "stream",
     "text": [
      "tensor([[-0.0379,  0.4204,  0.9751,  1.2097],\n",
      "        [ 0.4924, -2.5060,  0.9250, -0.8750],\n",
      "        [ 0.6441, -0.2571,  1.3664, -0.3135]])\n",
      "tensor(2.0436)\n",
      "tensor([ 2.5674, -1.9636,  1.4398])\n",
      "tensor([[ 2.5674],\n",
      "        [-1.9636],\n",
      "        [ 1.4398]])\n",
      "====================================================================================================\n",
      "tensor(0.1703)\n",
      "tensor([ 0.6419, -0.4909,  0.3600])\n",
      "tensor([[ 0.6419],\n",
      "        [-0.4909],\n",
      "        [ 0.3600]])\n",
      "tensor(1.0802)\n"
     ]
    }
   ],
   "source": [
    "A = torch.randn(3,4)\n",
    "print(A)\n",
    "print(torch.sum(A))\n",
    "print(torch.sum(A, dim=1))\n",
    "print(torch.sum(A, dim=1, keepdim=True))\n",
    "print('=='*50)\n",
    "print(torch.mean(A))\n",
    "print(torch.mean(A, dim=1))\n",
    "print(torch.mean(A, dim=1, keepdim=True))\n",
    "print(torch.std(A))"
   ]
  },
  {
   "cell_type": "code",
   "execution_count": 22,
   "id": "e4edb607-4833-43b1-a3a1-be82f3385126",
   "metadata": {},
   "outputs": [
    {
     "name": "stdout",
     "output_type": "stream",
     "text": [
      "tensor([2, 2, 4, 3, 3, 1, 1, 3, 1, 2, 4, 1, 1, 3, 1, 4, 1, 2, 1, 1, 2, 1, 4, 3])\n",
      "torch.Size([24])\n",
      "tensor([[[2, 2, 4, 3],\n",
      "         [3, 1, 1, 3],\n",
      "         [1, 2, 4, 1]],\n",
      "\n",
      "        [[1, 3, 1, 4],\n",
      "         [1, 2, 1, 1],\n",
      "         [2, 1, 4, 3]]])\n",
      "3\n",
      "tensor(51)\n",
      "tensor([[[3, 5, 5, 7],\n",
      "         [4, 3, 2, 4],\n",
      "         [3, 3, 8, 4]]])\n",
      "tensor([[[6, 5, 9, 7]],\n",
      "\n",
      "        [[4, 6, 6, 8]]])\n",
      "tensor([[[11],\n",
      "         [ 8],\n",
      "         [ 8]],\n",
      "\n",
      "        [[ 9],\n",
      "         [ 5],\n",
      "         [10]]])\n"
     ]
    }
   ],
   "source": [
    "A = torch.randint(1,5,size=(24,)) # Generates random integers from 1 to 4 with the specified size of (12,)\n",
    "print(A)\n",
    "print(A.shape)\n",
    "\n",
    "B = A.reshape(2,3,4)\n",
    "print(B)\n",
    "print(B.ndim)\n",
    "print(B.sum())\n",
    "print(B.sum(dim=0, keepdim=True))\n",
    "print(B.sum(dim=1, keepdim=True))\n",
    "print(B.sum(dim=2, keepdim=True))"
   ]
  },
  {
   "cell_type": "code",
   "execution_count": 23,
   "id": "b06183ea-5d18-490a-8c1f-7a8be4b8dcfd",
   "metadata": {},
   "outputs": [
    {
     "name": "stdout",
     "output_type": "stream",
     "text": [
      "tensor(9)\n",
      "tensor([[9]])\n",
      "tensor([[9]])\n",
      "tensor([[9]])\n",
      "tensor([[9]])\n",
      "torch.Size([4, 6, 3])\n",
      "torch.Size([6, 3, 4])\n"
     ]
    }
   ],
   "source": [
    "a = torch.tensor([1,2,3])\n",
    "b = torch.tensor([2,2,1])\n",
    "print(torch.sum(a*b))\n",
    "a = a.reshape(3,1)\n",
    "b = b.reshape(3,1)\n",
    "print(a.transpose(1,0)@b)\n",
    "print(a.permute(1,0)@b) # it would be more useful in more than 3 dimensions and beyond\n",
    "print(a.T@b)  # it would be more useful in less than 2 dimestions\n",
    "print(a.t()@b)\n",
    "\n",
    "A = torch.randn(4,3,6)\n",
    "print(A.permute(0,2,1).shape)\n",
    "print(A.transpose(0,2).shape) # transpose() only can change 2 indecies"
   ]
  },
  {
   "cell_type": "code",
   "execution_count": 24,
   "id": "c54c244d-68b2-4e58-8a6a-89f831a04d2c",
   "metadata": {},
   "outputs": [
    {
     "name": "stdout",
     "output_type": "stream",
     "text": [
      "tensor([ 0,  1,  2,  3,  4,  5,  6,  7,  8,  9, 10, 11, 12, 13, 14, 15, 16, 17,\n",
      "        18, 19])\n",
      "torch.Size([4, 5])\n",
      "torch.Size([4, 5])\n",
      "torch.Size([2, 5, 2])\n",
      "torch.Size([2, 2, 5])\n",
      "torch.Size([1, 20])\n",
      "torch.Size([20, 1])\n"
     ]
    }
   ],
   "source": [
    "A = torch.arange(20)\n",
    "print(A)\n",
    "print(A.reshape(4,5).shape)\n",
    "print(A.reshape(4,-1).shape)\n",
    "print(A.reshape(2,5,-1).shape)\n",
    "print(A.reshape(2,-1,5).shape)\n",
    "print(A.reshape(1,-1).shape)  # row vector\n",
    "print(A.reshape(-1,1).shape)  # column vector"
   ]
  },
  {
   "cell_type": "code",
   "execution_count": 25,
   "id": "60d6101c-c126-427a-bd7f-f651c8318ad7",
   "metadata": {},
   "outputs": [
    {
     "name": "stdout",
     "output_type": "stream",
     "text": [
      "torch.Size([4, 5, 6])\n",
      "torch.Size([4, 5, 6])\n",
      "torch.Size([2, 3, 4, 5])\n",
      "torch.Size([2, 3, 4, 5])\n",
      "torch.Size([3, 4, 6])\n",
      "torch.Size([3, 4, 6])\n"
     ]
    }
   ],
   "source": [
    "x = torch.randn(2,3,4,5,6)\n",
    "print(x[1,2,:,:,:].shape)  # x[1, 2, ...] is equaled to x[1, 2, :, :, :]\n",
    "print(x[1,2,...].shape)\n",
    "print(x[:,:,:,:,3].shape)\n",
    "print(x[...,3].shape)\n",
    "print(x[1,:,:,3,:].shape)\n",
    "print(x[1,...,3,:].shape)"
   ]
  },
  {
   "cell_type": "code",
   "execution_count": 26,
   "id": "7b122f6c-c6bc-4c92-843c-c688d0720f2d",
   "metadata": {},
   "outputs": [
    {
     "name": "stdout",
     "output_type": "stream",
     "text": [
      "tensor([[[1., 1., 1., 1.],\n",
      "         [1., 1., 1., 1.],\n",
      "         [1., 1., 1., 1.]],\n",
      "\n",
      "        [[1., 1., 1., 1.],\n",
      "         [1., 1., 1., 1.],\n",
      "         [1., 1., 1., 1.]]])\n",
      "tensor([[[0., 0., 0., 0.],\n",
      "         [0., 0., 0., 0.],\n",
      "         [0., 0., 0., 0.]],\n",
      "\n",
      "        [[0., 0., 0., 0.],\n",
      "         [0., 0., 0., 0.],\n",
      "         [0., 0., 0., 0.]]])\n",
      "tensor([[[1., 1., 1., 1.],\n",
      "         [1., 1., 1., 1.],\n",
      "         [1., 1., 1., 1.],\n",
      "         [0., 0., 0., 0.],\n",
      "         [0., 0., 0., 0.],\n",
      "         [0., 0., 0., 0.]],\n",
      "\n",
      "        [[1., 1., 1., 1.],\n",
      "         [1., 1., 1., 1.],\n",
      "         [1., 1., 1., 1.],\n",
      "         [0., 0., 0., 0.],\n",
      "         [0., 0., 0., 0.],\n",
      "         [0., 0., 0., 0.]]])\n",
      "tensor([[[1., 1., 1., 1.],\n",
      "         [1., 1., 1., 1.],\n",
      "         [1., 1., 1., 1.]],\n",
      "\n",
      "        [[1., 1., 1., 1.],\n",
      "         [1., 1., 1., 1.],\n",
      "         [1., 1., 1., 1.]],\n",
      "\n",
      "        [[0., 0., 0., 0.],\n",
      "         [0., 0., 0., 0.],\n",
      "         [0., 0., 0., 0.]],\n",
      "\n",
      "        [[0., 0., 0., 0.],\n",
      "         [0., 0., 0., 0.],\n",
      "         [0., 0., 0., 0.]]])\n",
      "tensor([[[1., 1., 1., 1.],\n",
      "         [1., 1., 1., 1.],\n",
      "         [1., 1., 1., 1.]],\n",
      "\n",
      "        [[1., 1., 1., 1.],\n",
      "         [1., 1., 1., 1.],\n",
      "         [1., 1., 1., 1.]],\n",
      "\n",
      "        [[0., 0., 0., 0.],\n",
      "         [0., 0., 0., 0.],\n",
      "         [0., 0., 0., 0.]],\n",
      "\n",
      "        [[0., 0., 0., 0.],\n",
      "         [0., 0., 0., 0.],\n",
      "         [0., 0., 0., 0.]]])\n",
      "tensor([[[1., 1., 1., 1.],\n",
      "         [1., 1., 1., 1.],\n",
      "         [1., 1., 1., 1.],\n",
      "         [0., 0., 0., 0.],\n",
      "         [0., 0., 0., 0.],\n",
      "         [0., 0., 0., 0.]],\n",
      "\n",
      "        [[1., 1., 1., 1.],\n",
      "         [1., 1., 1., 1.],\n",
      "         [1., 1., 1., 1.],\n",
      "         [0., 0., 0., 0.],\n",
      "         [0., 0., 0., 0.],\n",
      "         [0., 0., 0., 0.]]])\n",
      "tensor([[[1., 1., 1., 1., 0., 0., 0., 0.],\n",
      "         [1., 1., 1., 1., 0., 0., 0., 0.],\n",
      "         [1., 1., 1., 1., 0., 0., 0., 0.]],\n",
      "\n",
      "        [[1., 1., 1., 1., 0., 0., 0., 0.],\n",
      "         [1., 1., 1., 1., 0., 0., 0., 0.],\n",
      "         [1., 1., 1., 1., 0., 0., 0., 0.]]])\n"
     ]
    }
   ],
   "source": [
    "A = torch.ones((2,3,4))\n",
    "B = torch.zeros((2,3,4))\n",
    "\n",
    "C = torch.hstack([A,B]) # don't use this function\n",
    "D = torch.vstack([A,B]) # don't use this function\n",
    "\n",
    "E = torch.cat([A,B], dim=0)\n",
    "F = torch.cat([A,B], dim=1)\n",
    "G = torch.cat([A,B], dim=2)\n",
    "\n",
    "print(A)\n",
    "print(B)\n",
    "print(C)\n",
    "print(D)\n",
    "print(E)\n",
    "print(F)\n",
    "print(G)"
   ]
  },
  {
   "cell_type": "code",
   "execution_count": 27,
   "id": "9d3a968e-6ffe-4930-91e4-f8278ef54a93",
   "metadata": {},
   "outputs": [
    {
     "name": "stdout",
     "output_type": "stream",
     "text": [
      "torch.Size([1, 1, 1, 3, 1, 1, 4, 1])\n",
      "torch.Size([3, 4])\n"
     ]
    }
   ],
   "source": [
    "A = torch.randn(1,1,1,3,1,1,4,1)\n",
    "print(A.shape)\n",
    "print(A.squeeze().shape)"
   ]
  },
  {
   "cell_type": "code",
   "execution_count": 28,
   "id": "d85e22e8-6997-4841-9dca-d5df752b902b",
   "metadata": {},
   "outputs": [
    {
     "name": "stdout",
     "output_type": "stream",
     "text": [
      "torch.Size([1, 3, 4])\n",
      "torch.Size([3, 1, 4])\n",
      "torch.Size([3, 4, 1])\n",
      "torch.Size([1, 3, 4])\n",
      "torch.Size([3, 1, 4])\n",
      "torch.Size([3, 4, 1])\n"
     ]
    }
   ],
   "source": [
    "A = torch.randn(3,4)\n",
    "print(A.unsqueeze(dim=0).shape)\n",
    "print(A.unsqueeze(dim=1).shape)\n",
    "print(A.unsqueeze(dim=2).shape)\n",
    "print(A.reshape(1,3,4).shape)\n",
    "print(A.reshape(3,1,4).shape)\n",
    "print(A.reshape(3,4,1).shape)"
   ]
  },
  {
   "cell_type": "code",
   "execution_count": 29,
   "id": "e5ff40fe-c6ff-490d-b97d-a5389a6bedec",
   "metadata": {},
   "outputs": [
    {
     "name": "stdout",
     "output_type": "stream",
     "text": [
      "tensor([[100,   2],\n",
      "        [  3,   4]])\n",
      "tensor([[100,   2],\n",
      "        [  3,   4]])\n",
      "tensor([[1, 2],\n",
      "        [3, 4]])\n"
     ]
    }
   ],
   "source": [
    "A = torch.tensor([[1,2], [3,4]])\n",
    "B = A              # It share A address. So if you change element of B tensor, then the element of tensor of A is changed as well!\n",
    "C = B.clone()      # you can use this function not to share the tensor address that you try to copy!\n",
    "B[0,0] = 100\n",
    "\n",
    "print(B)\n",
    "print(A)\n",
    "print(C)"
   ]
  },
  {
   "cell_type": "markdown",
   "id": "29b40d84-db74-453c-9a49-26b3e9724646",
   "metadata": {},
   "source": [
    "## Let's find out about the \"@\""
   ]
  },
  {
   "cell_type": "code",
   "execution_count": 30,
   "id": "0e593186-b026-4854-a7d5-249cd4ab5ea4",
   "metadata": {},
   "outputs": [
    {
     "name": "stdout",
     "output_type": "stream",
     "text": [
      "torch.Size([5, 10])\n",
      "torch.Size([32, 5, 10])\n"
     ]
    }
   ],
   "source": [
    "A = torch.randn(5,7)\n",
    "B = torch.randn(7,10)\n",
    "C = A@B\n",
    "print(C.shape)\n",
    "\n",
    "A = torch.randn(32,5,7)\n",
    "B = torch.randn(32,7,10)\n",
    "C = A@B                  # if it's 3 dimension, it is calculated by dimension-wise inner product\n",
    "print(C.shape)"
   ]
  },
  {
   "cell_type": "code",
   "execution_count": 31,
   "id": "efc64940-d619-4b80-9a0a-1b0520c7b3ee",
   "metadata": {},
   "outputs": [
    {
     "name": "stdout",
     "output_type": "stream",
     "text": [
      "torch.Size([32, 5, 10])\n",
      "torch.Size([32, 7, 10])\n",
      "torch.Size([32, 5, 10])\n",
      "torch.Size([3, 1, 6, 12])\n"
     ]
    }
   ],
   "source": [
    "A = torch.randn(32,5,7)\n",
    "B = torch.randn(7,10)\n",
    "\n",
    "print((A@B).shape)\n",
    "print(B.repeat(32,1,1).shape)\n",
    "print((A@B.repeat(32,1,1)).shape)\n",
    "\n",
    "a = torch.randn(3,4)\n",
    "print(a.repeat(3,1,2,3).shape)"
   ]
  },
  {
   "cell_type": "code",
   "execution_count": 32,
   "id": "741feca5-6a58-4d92-8113-eac2e2e95aa7",
   "metadata": {},
   "outputs": [
    {
     "name": "stdout",
     "output_type": "stream",
     "text": [
      "<class 'torch.Tensor'>\n",
      "<class 'numpy.ndarray'>\n"
     ]
    }
   ],
   "source": [
    "import numpy as np\n",
    "a = np.array([1,2,3])\n",
    "b = torch.tensor([1,2,3])\n",
    "A = torch.tensor(a)\n",
    "print(type(A))\n",
    "B = b.numpy()\n",
    "print(type(B))"
   ]
  },
  {
   "cell_type": "markdown",
   "id": "b8a20087-1a14-42ca-97f6-d63ac54a68df",
   "metadata": {},
   "source": [
    "# Autograd that made deep learning"
   ]
  },
  {
   "cell_type": "code",
   "execution_count": 33,
   "id": "0b8f2e9d-cc89-434b-bb4b-738939fbe832",
   "metadata": {},
   "outputs": [
    {
     "name": "stdout",
     "output_type": "stream",
     "text": [
      "tensor([1.], requires_grad=True)\n"
     ]
    }
   ],
   "source": [
    "x = torch.tensor([1.], requires_grad=True) # Must be float\n",
    "print(x)"
   ]
  },
  {
   "cell_type": "code",
   "execution_count": 34,
   "id": "504a1caa-d160-433b-96d2-f86cdf41230e",
   "metadata": {},
   "outputs": [
    {
     "name": "stdout",
     "output_type": "stream",
     "text": [
      "tensor([1.])\n",
      "False\n",
      "tensor([1.], requires_grad=True)\n",
      "True\n"
     ]
    }
   ],
   "source": [
    "x = torch.tensor([1.])\n",
    "print(x)\n",
    "print(x.requires_grad)\n",
    "x.requires_grad = True\n",
    "print(x)\n",
    "print(x.requires_grad)"
   ]
  },
  {
   "cell_type": "code",
   "execution_count": 35,
   "id": "dfad40fd-0d88-4954-a275-390b4ce6f014",
   "metadata": {},
   "outputs": [
    {
     "name": "stdout",
     "output_type": "stream",
     "text": [
      "tensor([1.], grad_fn=<PowBackward0>)\n",
      "tensor([2.])\n"
     ]
    }
   ],
   "source": [
    "x = torch.tensor([1.], requires_grad=True)\n",
    "y = x**2\n",
    "print(y)\n",
    "\n",
    "y.backward()\n",
    "print(x.grad)"
   ]
  },
  {
   "cell_type": "code",
   "execution_count": 36,
   "id": "059239dc-f524-4e77-a764-58b8142a1c85",
   "metadata": {},
   "outputs": [
    {
     "name": "stdout",
     "output_type": "stream",
     "text": [
      "tensor([1.], grad_fn=<PowBackward0>)\n",
      "tensor([3.], grad_fn=<MulBackward0>)\n",
      "tensor([6.])\n",
      "tensor([3.])\n"
     ]
    }
   ],
   "source": [
    "x = torch.tensor([1.], requires_grad=True)\n",
    "y = x**2\n",
    "print(y)\n",
    "y.retain_grad()       # If you want to get the grad of mid tensor such as y, you can use it\n",
    "\n",
    "z = 3*y\n",
    "print(z)\n",
    "\n",
    "z.backward()\n",
    "print(x.grad)         # It figures out this grad by using chain rule\n",
    "print(y.grad)         # By using .retain_grad() function, now you can get the y grad"
   ]
  },
  {
   "cell_type": "code",
   "execution_count": 37,
   "id": "20db1c29-a4bd-4b0c-acad-9a37b6b1be28",
   "metadata": {},
   "outputs": [
    {
     "name": "stdout",
     "output_type": "stream",
     "text": [
      "tensor([2.], grad_fn=<AddBackward0>)\n",
      "tensor([8.])\n"
     ]
    }
   ],
   "source": [
    "x=torch.tensor([1.], requires_grad=True)\n",
    "a = x**2\n",
    "b = a+1\n",
    "print(b)\n",
    "c=b**2\n",
    "c.backward()\n",
    "print(x.grad)"
   ]
  },
  {
   "cell_type": "code",
   "execution_count": 38,
   "id": "e9a67724-cd8f-4b6a-af2b-5ceaf6dd76b3",
   "metadata": {},
   "outputs": [
    {
     "name": "stdout",
     "output_type": "stream",
     "text": [
      "tensor([4.])\n",
      "tensor([2.])\n"
     ]
    }
   ],
   "source": [
    "x = torch.tensor([1.], requires_grad=True)\n",
    "y = torch.tensor([1.], requires_grad=True)\n",
    "z = 2*x**2 + y**2\n",
    "z.backward()\n",
    "print(x.grad)\n",
    "print(y.grad)"
   ]
  },
  {
   "cell_type": "code",
   "execution_count": 39,
   "id": "955a0ccc-af76-43c9-b671-108db5441d4f",
   "metadata": {},
   "outputs": [
    {
     "name": "stdout",
     "output_type": "stream",
     "text": [
      "tensor(14., grad_fn=<SumBackward0>)\n",
      "tensor([2., 4., 6.])\n"
     ]
    }
   ],
   "source": [
    "x = torch.tensor([1., 2., 3.], requires_grad=True)\n",
    "y = torch.sum(x**2)             # that means x1**2 + x2**2 + x3**2\n",
    "y.backward()\n",
    "print(y)\n",
    "print(x.grad)"
   ]
  },
  {
   "cell_type": "code",
   "execution_count": 40,
   "id": "76b1ef6f-e3e8-4806-b0c3-31bfe495d108",
   "metadata": {},
   "outputs": [
    {
     "name": "stdout",
     "output_type": "stream",
     "text": [
      "tensor([1.])\n"
     ]
    }
   ],
   "source": [
    "x = torch.tensor([1.], requires_grad=True)\n",
    "x.requires_grad = False\n",
    "\n",
    "y = x**2\n",
    "print(y)\n",
    "# y.backward()     error!"
   ]
  },
  {
   "cell_type": "code",
   "execution_count": 41,
   "id": "9e0e22fa-f35e-4bed-a680-f458f3058fe1",
   "metadata": {},
   "outputs": [
    {
     "name": "stdout",
     "output_type": "stream",
     "text": [
      "tensor([2.])\n",
      "tensor([4.])\n"
     ]
    }
   ],
   "source": [
    "x = torch.tensor([2.], requires_grad=True)\n",
    "x = x.detach()\n",
    "print(x)\n",
    "y = x**2\n",
    "print(y)"
   ]
  },
  {
   "cell_type": "code",
   "execution_count": 42,
   "id": "42141ff4-0c85-4a8a-8ea5-d82572507deb",
   "metadata": {},
   "outputs": [
    {
     "name": "stdout",
     "output_type": "stream",
     "text": [
      "True\n",
      "tensor([1.])\n",
      "True\n",
      "tensor([1.], grad_fn=<PowBackward0>)\n"
     ]
    }
   ],
   "source": [
    "# detach and torch.no_grad\n",
    "x = torch.tensor([1.], requires_grad=True)\n",
    "# if you don't want to calculate the grad_fn temporary, you can use torch.no_grad()\n",
    "# because you don't need to use Memerory when you test a model!\n",
    "with torch.no_grad():\n",
    "    y = x**2\n",
    "    print(x.requires_grad)\n",
    "    print(y)\n",
    "print(x.requires_grad)\n",
    "# y.backward() would be error at this line!!\n",
    "y = x**2\n",
    "print(y)       # now it works becuase the y = x**2 is out of the \"with torch.no_grad()\"\" function"
   ]
  },
  {
   "cell_type": "code",
   "execution_count": 48,
   "id": "a79aab8c-ee14-4b20-a8c5-f13121107bbf",
   "metadata": {},
   "outputs": [
    {
     "name": "stdout",
     "output_type": "stream",
     "text": [
      "tensor([1.], grad_fn=<AbsBackward0>)\n",
      "tensor([-1.])\n"
     ]
    }
   ],
   "source": [
    "x = torch.tensor([-1.], requires_grad=True)\n",
    "y = torch.abs(x)\n",
    "\n",
    "print(y)\n",
    "y.backward()\n",
    "print(x.grad)"
   ]
  },
  {
   "cell_type": "code",
   "execution_count": null,
   "id": "d58896ae-e239-4fe7-83d6-0ba9ee61cc37",
   "metadata": {},
   "outputs": [],
   "source": []
  }
 ],
 "metadata": {
  "kernelspec": {
   "display_name": "pytorch",
   "language": "python",
   "name": "pytorch"
  },
  "language_info": {
   "codemirror_mode": {
    "name": "ipython",
    "version": 3
   },
   "file_extension": ".py",
   "mimetype": "text/x-python",
   "name": "python",
   "nbconvert_exporter": "python",
   "pygments_lexer": "ipython3",
   "version": "3.9.18"
  }
 },
 "nbformat": 4,
 "nbformat_minor": 5
}
