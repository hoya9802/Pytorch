{
 "cells": [
  {
   "cell_type": "code",
   "execution_count": 1,
   "id": "392f2f99-278d-48b0-bffd-4ba70b1d4515",
   "metadata": {},
   "outputs": [],
   "source": [
    "import torch\n",
    "from torchvision import transforms\n",
    "import numpy as np"
   ]
  },
  {
   "cell_type": "code",
   "execution_count": 2,
   "id": "24d53129-2686-4202-861d-ebbba60ab844",
   "metadata": {},
   "outputs": [],
   "source": [
    "class Custom_Dataset(torch.utils.data.Dataset):\n",
    "    def __init__(self, X, Y, transform=None):\n",
    "        self.x = X\n",
    "        self.y = Y\n",
    "        self.transform = transform\n",
    "        \n",
    "    def __len__(self):\n",
    "        return self.x.shape[0]\n",
    "        \n",
    "    def __getitem__(self, idx):\n",
    "        x = self.x[idx]\n",
    "        if self.transform is not None:\n",
    "            x = self.transform(x)\n",
    "        y = self.y[idx]\n",
    "        return x, y"
   ]
  },
  {
   "cell_type": "code",
   "execution_count": 9,
   "id": "2c8ed9f0-2020-45d2-b053-4e96fd0ab799",
   "metadata": {},
   "outputs": [],
   "source": [
    "x_data = np.arange(-10,10).reshape(-1,1)\n",
    "y_data = x_data**2"
   ]
  },
  {
   "cell_type": "code",
   "execution_count": 20,
   "id": "e22c776d-ab78-4d67-bb6f-121ca6e81406",
   "metadata": {},
   "outputs": [],
   "source": [
    "transform = lambda x:x+1\n",
    "BATCH_SIZE = 8\n",
    "\n",
    "custom_DS = Custom_Dataset(x_data, y_data, transform=transform)\n",
    "\n",
    "NoT = int(len(custom_DS)*0.8)\n",
    "NoV = int(len(custom_DS)*0.1)\n",
    "NoTes = len(custom_DS) - NoT - NoV\n",
    "train_DS, val_DS, test_DS = torch.utils.data.random_split(custom_DS, [NoT,NoV,NoTes])\n",
    "\n",
    "train_DL = torch.utils.data.DataLoader(train_DS, batch_size=BATCH_SIZE, shuffle=True)\n",
    "val_DL = torch.utils.data.DataLoader(val_DS, batch_size=BATCH_SIZE, shuffle=True)\n",
    "test_DL = torch.utils.data.DataLoader(test_DS, batch_size=BATCH_SIZE, shuffle=True)"
   ]
  },
  {
   "cell_type": "code",
   "execution_count": 21,
   "id": "44e2d2b2-60f7-4107-bdab-52b1eba6318c",
   "metadata": {},
   "outputs": [
    {
     "name": "stdout",
     "output_type": "stream",
     "text": [
      "x_batch = tensor([-9, -6,  0,  3,  5,  8,  2,  7]), \n",
      "y_batch = tensor([-9, -6,  0,  3,  5,  8,  2,  7])\n",
      "x_batch = tensor([ 9, -4, -5, -2, -1,  6,  4, -8]), \n",
      "y_batch = tensor([ 9, -4, -5, -2, -1,  6,  4, -8])\n",
      "\n",
      "x_batch = tensor([-7, 10]), \n",
      "y_batch = tensor([64, 81])\n",
      "\n",
      "x_batch = tensor([-3,  1]), \n",
      "y_batch = tensor([16,  0])\n"
     ]
    }
   ],
   "source": [
    "for x_batch, y_batch in train_DL:\n",
    "    print(f'x_batch = {x_batch.reshape(-1)}, \\n'\n",
    "          f'y_batch = {x_batch.reshape(-1)}')\n",
    "print()\n",
    "for x_batch, y_batch in val_DL:\n",
    "    print(f'x_batch = {x_batch.reshape(-1)}, \\n'\n",
    "          f'y_batch = {y_batch.reshape(-1)}')\n",
    "print()\n",
    "for x_batch, y_batch in test_DL:\n",
    "    print(f'x_batch = {x_batch.reshape(-1)}, \\n'\n",
    "          f'y_batch = {y_batch.reshape(-1)}')"
   ]
  },
  {
   "cell_type": "code",
   "execution_count": null,
   "id": "e031fbdf-684a-40fc-a817-44e0af4f8d6d",
   "metadata": {},
   "outputs": [],
   "source": []
  }
 ],
 "metadata": {
  "kernelspec": {
   "display_name": "pytorch",
   "language": "python",
   "name": "pytorch"
  },
  "language_info": {
   "codemirror_mode": {
    "name": "ipython",
    "version": 3
   },
   "file_extension": ".py",
   "mimetype": "text/x-python",
   "name": "python",
   "nbconvert_exporter": "python",
   "pygments_lexer": "ipython3",
   "version": "3.9.18"
  }
 },
 "nbformat": 4,
 "nbformat_minor": 5
}
