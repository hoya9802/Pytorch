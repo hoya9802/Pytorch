{
 "cells": [
  {
   "cell_type": "code",
   "execution_count": 2,
   "id": "b3d004a6-9bac-4027-a0df-c3be310eafeb",
   "metadata": {},
   "outputs": [],
   "source": [
    "import torch"
   ]
  },
  {
   "cell_type": "markdown",
   "id": "a99fc266-b851-47bd-bce3-ba500305ca40",
   "metadata": {},
   "source": [
    "## STEP 1. Make data"
   ]
  },
  {
   "cell_type": "code",
   "execution_count": 6,
   "id": "92cbfe18-1283-4ab1-9b0f-4569ae33ae4d",
   "metadata": {},
   "outputs": [],
   "source": [
    "# case 1\n",
    "N = 20\n",
    "random0 = torch.randn(int(N/2), 1)\n",
    "random5 = torch.randn(int(N/2), 1) + 5\n",
    "class1_data = torch.hstack([random0, random5])\n",
    "class2_data = torch.hstack([random5, random0])\n",
    "\n",
    "class1_label = torch.ones(int(N/2),1)\n",
    "class2_label = torch.zeros(int(N/2),1)\n",
    "x = torch.vstack([class1_data, class2_data])\n",
    "y = torch.vstack([class1_label, class2_label])"
   ]
  },
  {
   "cell_type": "code",
   "execution_count": 8,
   "id": "a78c04b2-8c0b-4782-9561-ad97ce517572",
   "metadata": {},
   "outputs": [
    {
     "data": {
      "image/png": "[encoded data removed]",
      "text/plain": [
       "<Figure size 640x480 with 1 Axes>"
      ]
     },
     "metadata": {},
     "output_type": "display_data"
    }
   ],
   "source": [
    "import matplotlib.pyplot as plt\n",
    "plt.plot(class1_data[:,0], class1_data[:,1], 'o')\n",
    "plt.plot(class2_data[:,0], class2_data[:,1], 'ro')\n",
    "plt.xlabel('x1')\n",
    "plt.ylabel('y1')\n",
    "plt.grid()"
   ]
  },
  {
   "cell_type": "markdown",
   "id": "8da9d649-f203-462a-b92e-8aa1d3ca7a7a",
   "metadata": {},
   "source": [
    "## STEP2. Make Model"
   ]
  },
  {
   "cell_type": "code",
   "execution_count": 10,
   "id": "4e116070-df25-4652-ba14-58e2bb069c83",
   "metadata": {},
   "outputs": [],
   "source": [
    "from torch import nn\n",
    "\n",
    "class MLP(nn.Module):\n",
    "    def __init__(self):\n",
    "        super().__init__()\n",
    "\n",
    "        \n",
    "        # case 1, plain\n",
    "        self.linear = nn.Sequential(nn.Linear(2, 100),\n",
    "                                    nn.Sigmoid(),\n",
    "                                    nn.Linear(100, 1),\n",
    "                                    nn.Sigmoid())\n",
    "\n",
    "    \n",
    "    def forward(self, x):\n",
    "        x = self.linear(x)\n",
    "        return x"
   ]
  },
  {
   "cell_type": "code",
   "execution_count": 15,
   "id": "d86740f1-f896-4bf5-a2d1-6db8fa61cd49",
   "metadata": {},
   "outputs": [
    {
     "name": "stdout",
     "output_type": "stream",
     "text": [
      "MLP(\n",
      "  (linear): Sequential(\n",
      "    (0): Linear(in_features=2, out_features=100, bias=True)\n",
      "    (1): Sigmoid()\n",
      "    (2): Linear(in_features=100, out_features=1, bias=True)\n",
      "    (3): Sigmoid()\n",
      "  )\n",
      ")\n",
      "torch.Size([5, 1])\n"
     ]
    }
   ],
   "source": [
    "model = MLP()\n",
    "print(model)\n",
    "print(model(torch.randn(5,2)).shape)  # Enter the number of 5 coordinate values (x1, x2) data consisting of 2 values."
   ]
  },
  {
   "cell_type": "markdown",
   "id": "514baebd-1a00-4a18-bc91-3faa9c0750e8",
   "metadata": {},
   "source": [
    "## STEP 3. Training Model"
   ]
  },
  {
   "cell_type": "code",
   "execution_count": 17,
   "id": "a9eb1ee2-286e-4dc2-8923-67ac3df14c24",
   "metadata": {},
   "outputs": [],
   "source": [
    "from torch import optim\n",
    "import torch.nn.functional as F\n",
    "\n",
    "LR = 1e-1 # case 1\n",
    "EPOCH = 100 # case 2\n",
    "\n",
    "optimizer  = optim.SGD(model.parameters(), lr=LR)\n",
    "\n",
    "model.train() # change into train mode\n",
    "for it in range(EPOCH):\n",
    "    # inference\n",
    "    y_hat = model(x)\n",
    "    # loss\n",
    "    loss = F.binary_cross_entropy(y_hat, y) # y_hat(prediction) should be in front of y(target) ==> (y_hat, y)\n",
    "    # update\n",
    "    loss.backward()\n",
    "    optimizer.step()"
   ]
  },
  {
   "cell_type": "code",
   "execution_count": null,
   "id": "3ac48383-f8f8-493b-8e50-18040d90a693",
   "metadata": {},
   "outputs": [],
   "source": []
  }
 ],
 "metadata": {
  "kernelspec": {
   "display_name": "pytorch",
   "language": "python",
   "name": "pytorch"
  },
  "language_info": {
   "codemirror_mode": {
    "name": "ipython",
    "version": 3
   },
   "file_extension": ".py",
   "mimetype": "text/x-python",
   "name": "python",
   "nbconvert_exporter": "python",
   "pygments_lexer": "ipython3",
   "version": "3.9.18"
  }
 },
 "nbformat": 4,
 "nbformat_minor": 5
}
