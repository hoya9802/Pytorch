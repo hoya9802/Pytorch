{
 "cells": [
  {
   "cell_type": "code",
   "execution_count": 1,
   "id": "b3d004a6-9bac-4027-a0df-c3be310eafeb",
   "metadata": {},
   "outputs": [],
   "source": [
    "import torch"
   ]
  },
  {
   "cell_type": "markdown",
   "id": "a99fc266-b851-47bd-bce3-ba500305ca40",
   "metadata": {},
   "source": [
    "## STEP 1. Make data"
   ]
  },
  {
   "cell_type": "code",
   "execution_count": 18,
   "id": "92cbfe18-1283-4ab1-9b0f-4569ae33ae4d",
   "metadata": {},
   "outputs": [],
   "source": [
    "# case 1\n",
    "N = 20\n",
    "random0 = torch.randn(int(N/2), 1)\n",
    "random5 = torch.randn(int(N/2), 1) + 5\n",
    "class1_data = torch.hstack([random0, random5])\n",
    "class2_data = torch.hstack([random5, random0])\n",
    "\n",
    "class1_label = torch.ones(int(N/2),1)\n",
    "class2_label = torch.zeros(int(N/2),1)\n",
    "x = torch.vstack([class1_data, class2_data])\n",
    "y = torch.vstack([class1_label, class2_label])"
   ]
  },
  {
   "cell_type": "code",
   "execution_count": 19,
   "id": "a78c04b2-8c0b-4782-9561-ad97ce517572",
   "metadata": {},
   "outputs": [
    {
     "data": {
      "image/png": "[encoded data removed]",
      "text/plain": [
       "<Figure size 640x480 with 1 Axes>"
      ]
     },
     "metadata": {},
     "output_type": "display_data"
    }
   ],
   "source": [
    "import matplotlib.pyplot as plt\n",
    "plt.plot(class1_data[:,0], class1_data[:,1], 'o')\n",
    "plt.plot(class2_data[:,0], class2_data[:,1], 'ro')\n",
    "plt.xlabel('x1')\n",
    "plt.ylabel('y1')\n",
    "plt.grid()"
   ]
  },
  {
   "cell_type": "markdown",
   "id": "8da9d649-f203-462a-b92e-8aa1d3ca7a7a",
   "metadata": {},
   "source": [
    "## STEP2. Make Model"
   ]
  },
  {
   "cell_type": "code",
   "execution_count": 20,
   "id": "4e116070-df25-4652-ba14-58e2bb069c83",
   "metadata": {},
   "outputs": [],
   "source": [
    "from torch import nn\n",
    "\n",
    "class MLP(nn.Module):\n",
    "    def __init__(self):\n",
    "        super().__init__()\n",
    "\n",
    "        \n",
    "        # case 1, plain\n",
    "        self.linear = nn.Sequential(nn.Linear(2, 100),\n",
    "                                    nn.Sigmoid(),\n",
    "                                    nn.Linear(100, 1),\n",
    "                                    nn.Sigmoid())\n",
    "\n",
    "    \n",
    "    def forward(self, x):\n",
    "        x = self.linear(x)\n",
    "        return x"
   ]
  },
  {
   "cell_type": "code",
   "execution_count": 22,
   "id": "d86740f1-f896-4bf5-a2d1-6db8fa61cd49",
   "metadata": {},
   "outputs": [
    {
     "name": "stdout",
     "output_type": "stream",
     "text": [
      "MLP(\n",
      "  (linear): Sequential(\n",
      "    (0): Linear(in_features=2, out_features=100, bias=True)\n",
      "    (1): Sigmoid()\n",
      "    (2): Linear(in_features=100, out_features=1, bias=True)\n",
      "    (3): Sigmoid()\n",
      "  )\n",
      ")\n"
     ]
    }
   ],
   "source": [
    "model = MLP()\n",
    "print(model)\n",
    "# print(model(torch.randn(5,2)).shape)  # Enter the number of 5 coordinate values (x1, x2) data consisting of 2 values."
   ]
  },
  {
   "cell_type": "markdown",
   "id": "514baebd-1a00-4a18-bc91-3faa9c0750e8",
   "metadata": {},
   "source": [
    "## STEP 3. Training Model"
   ]
  },
  {
   "cell_type": "code",
   "execution_count": 23,
   "id": "a9eb1ee2-286e-4dc2-8923-67ac3df14c24",
   "metadata": {},
   "outputs": [
    {
     "name": "stdout",
     "output_type": "stream",
     "text": [
      "Epoch: 1, train loss: 0.753\n",
      "--------------------\n",
      "Epoch: 2, train loss: 0.629\n",
      "--------------------\n",
      "Epoch: 3, train loss: 0.534\n",
      "--------------------\n",
      "Epoch: 4, train loss: 0.461\n",
      "--------------------\n",
      "Epoch: 5, train loss: 0.404\n",
      "--------------------\n",
      "Epoch: 6, train loss: 0.359\n",
      "--------------------\n",
      "Epoch: 7, train loss: 0.322\n",
      "--------------------\n",
      "Epoch: 8, train loss: 0.292\n",
      "--------------------\n",
      "Epoch: 9, train loss: 0.267\n",
      "--------------------\n",
      "Epoch: 10, train loss: 0.246\n",
      "--------------------\n",
      "Epoch: 11, train loss: 0.228\n",
      "--------------------\n",
      "Epoch: 12, train loss: 0.213\n",
      "--------------------\n",
      "Epoch: 13, train loss: 0.199\n",
      "--------------------\n",
      "Epoch: 14, train loss: 0.187\n",
      "--------------------\n",
      "Epoch: 15, train loss: 0.177\n",
      "--------------------\n",
      "Epoch: 16, train loss: 0.168\n",
      "--------------------\n",
      "Epoch: 17, train loss: 0.159\n",
      "--------------------\n",
      "Epoch: 18, train loss: 0.152\n",
      "--------------------\n",
      "Epoch: 19, train loss: 0.145\n",
      "--------------------\n",
      "Epoch: 20, train loss: 0.139\n",
      "--------------------\n",
      "Epoch: 21, train loss: 0.133\n",
      "--------------------\n",
      "Epoch: 22, train loss: 0.128\n",
      "--------------------\n",
      "Epoch: 23, train loss: 0.123\n",
      "--------------------\n",
      "Epoch: 24, train loss: 0.119\n",
      "--------------------\n",
      "Epoch: 25, train loss: 0.115\n",
      "--------------------\n",
      "Epoch: 26, train loss: 0.111\n",
      "--------------------\n",
      "Epoch: 27, train loss: 0.107\n",
      "--------------------\n",
      "Epoch: 28, train loss: 0.104\n",
      "--------------------\n",
      "Epoch: 29, train loss: 0.101\n",
      "--------------------\n",
      "Epoch: 30, train loss: 0.098\n",
      "--------------------\n",
      "Epoch: 31, train loss: 0.096\n",
      "--------------------\n",
      "Epoch: 32, train loss: 0.093\n",
      "--------------------\n",
      "Epoch: 33, train loss: 0.091\n",
      "--------------------\n",
      "Epoch: 34, train loss: 0.088\n",
      "--------------------\n",
      "Epoch: 35, train loss: 0.086\n",
      "--------------------\n",
      "Epoch: 36, train loss: 0.084\n",
      "--------------------\n",
      "Epoch: 37, train loss: 0.082\n",
      "--------------------\n",
      "Epoch: 38, train loss: 0.08\n",
      "--------------------\n",
      "Epoch: 39, train loss: 0.078\n",
      "--------------------\n",
      "Epoch: 40, train loss: 0.077\n",
      "--------------------\n",
      "Epoch: 41, train loss: 0.075\n",
      "--------------------\n",
      "Epoch: 42, train loss: 0.074\n",
      "--------------------\n",
      "Epoch: 43, train loss: 0.072\n",
      "--------------------\n",
      "Epoch: 44, train loss: 0.071\n",
      "--------------------\n",
      "Epoch: 45, train loss: 0.069\n",
      "--------------------\n",
      "Epoch: 46, train loss: 0.068\n",
      "--------------------\n",
      "Epoch: 47, train loss: 0.067\n",
      "--------------------\n",
      "Epoch: 48, train loss: 0.066\n",
      "--------------------\n",
      "Epoch: 49, train loss: 0.065\n",
      "--------------------\n",
      "Epoch: 50, train loss: 0.063\n",
      "--------------------\n",
      "Epoch: 51, train loss: 0.062\n",
      "--------------------\n",
      "Epoch: 52, train loss: 0.061\n",
      "--------------------\n",
      "Epoch: 53, train loss: 0.06\n",
      "--------------------\n",
      "Epoch: 54, train loss: 0.059\n",
      "--------------------\n",
      "Epoch: 55, train loss: 0.059\n",
      "--------------------\n",
      "Epoch: 56, train loss: 0.058\n",
      "--------------------\n",
      "Epoch: 57, train loss: 0.057\n",
      "--------------------\n",
      "Epoch: 58, train loss: 0.056\n",
      "--------------------\n",
      "Epoch: 59, train loss: 0.055\n",
      "--------------------\n",
      "Epoch: 60, train loss: 0.054\n",
      "--------------------\n",
      "Epoch: 61, train loss: 0.054\n",
      "--------------------\n",
      "Epoch: 62, train loss: 0.053\n",
      "--------------------\n",
      "Epoch: 63, train loss: 0.052\n",
      "--------------------\n",
      "Epoch: 64, train loss: 0.051\n",
      "--------------------\n",
      "Epoch: 65, train loss: 0.051\n",
      "--------------------\n",
      "Epoch: 66, train loss: 0.05\n",
      "--------------------\n",
      "Epoch: 67, train loss: 0.049\n",
      "--------------------\n",
      "Epoch: 68, train loss: 0.049\n",
      "--------------------\n",
      "Epoch: 69, train loss: 0.048\n",
      "--------------------\n",
      "Epoch: 70, train loss: 0.048\n",
      "--------------------\n",
      "Epoch: 71, train loss: 0.047\n",
      "--------------------\n",
      "Epoch: 72, train loss: 0.047\n",
      "--------------------\n",
      "Epoch: 73, train loss: 0.046\n",
      "--------------------\n",
      "Epoch: 74, train loss: 0.045\n",
      "--------------------\n",
      "Epoch: 75, train loss: 0.045\n",
      "--------------------\n",
      "Epoch: 76, train loss: 0.044\n",
      "--------------------\n",
      "Epoch: 77, train loss: 0.044\n",
      "--------------------\n",
      "Epoch: 78, train loss: 0.043\n",
      "--------------------\n",
      "Epoch: 79, train loss: 0.043\n",
      "--------------------\n",
      "Epoch: 80, train loss: 0.043\n",
      "--------------------\n",
      "Epoch: 81, train loss: 0.042\n",
      "--------------------\n",
      "Epoch: 82, train loss: 0.042\n",
      "--------------------\n",
      "Epoch: 83, train loss: 0.041\n",
      "--------------------\n",
      "Epoch: 84, train loss: 0.041\n",
      "--------------------\n",
      "Epoch: 85, train loss: 0.04\n",
      "--------------------\n",
      "Epoch: 86, train loss: 0.04\n",
      "--------------------\n",
      "Epoch: 87, train loss: 0.04\n",
      "--------------------\n",
      "Epoch: 88, train loss: 0.039\n",
      "--------------------\n",
      "Epoch: 89, train loss: 0.039\n",
      "--------------------\n",
      "Epoch: 90, train loss: 0.039\n",
      "--------------------\n",
      "Epoch: 91, train loss: 0.038\n",
      "--------------------\n",
      "Epoch: 92, train loss: 0.038\n",
      "--------------------\n",
      "Epoch: 93, train loss: 0.037\n",
      "--------------------\n",
      "Epoch: 94, train loss: 0.037\n",
      "--------------------\n",
      "Epoch: 95, train loss: 0.037\n",
      "--------------------\n",
      "Epoch: 96, train loss: 0.036\n",
      "--------------------\n",
      "Epoch: 97, train loss: 0.036\n",
      "--------------------\n",
      "Epoch: 98, train loss: 0.036\n",
      "--------------------\n",
      "Epoch: 99, train loss: 0.036\n",
      "--------------------\n",
      "Epoch: 100, train loss: 0.035\n",
      "--------------------\n"
     ]
    }
   ],
   "source": [
    "from torch import optim\n",
    "import torch.nn.functional as F\n",
    "\n",
    "LR = 1e-1 # case 1\n",
    "EPOCH = 100 # case 2\n",
    "\n",
    "optimizer  = optim.SGD(model.parameters(), lr=LR)\n",
    "\n",
    "loss_history = []\n",
    "\n",
    "model.train() # change into train mode\n",
    "for it in range(EPOCH):\n",
    "    # inference\n",
    "    y_hat = model(x)\n",
    "    # loss\n",
    "    loss = F.binary_cross_entropy(y_hat, y) # y_hat(prediction) should be in front of y(target) ==> (y_hat, y)\n",
    "    # update\n",
    "    optimizer.zero_grad() # Prevent stack of gradient\n",
    "    loss.backward()       # BPP(Back Propagation)\n",
    "    optimizer.step()      # Weight update\n",
    "    # print loss\n",
    "    loss_history += [loss.item()]\n",
    "    print(f'Epoch: {it+1}, train loss: {round(loss.item(),3)}')\n",
    "    print('-'*20)"
   ]
  },
  {
   "cell_type": "code",
   "execution_count": 24,
   "id": "3aac707e-586b-40d7-8940-a7df6753d1db",
   "metadata": {},
   "outputs": [
    {
     "name": "stdout",
     "output_type": "stream",
     "text": [
      "tensor([2.])\n",
      "tensor([2.])\n"
     ]
    }
   ],
   "source": [
    "x = torch.tensor([1.], requires_grad=True)\n",
    "for _ in range(2):\n",
    "    loss=x**2\n",
    "    loss.backward()\n",
    "    print(x.grad)    # if you use loss.backward() without The functions below, the result would be stacked by addition.  \n",
    "    x.grad = None    # x.grad = 0 doesn't work"
   ]
  },
  {
   "cell_type": "code",
   "execution_count": 25,
   "id": "3ac48383-f8f8-493b-8e50-18040d90a693",
   "metadata": {},
   "outputs": [
    {
     "name": "stdout",
     "output_type": "stream",
     "text": [
      "tensor(0.0352, grad_fn=<BinaryCrossEntropyBackward0>)\n",
      "tensor(0.0352, grad_fn=<DivBackward0>)\n"
     ]
    }
   ],
   "source": [
    "print(F.binary_cross_entropy(y_hat, y))\n",
    "print(-torch.sum(torch.log(y_hat**y*(1-y_hat)**(1-y)))/N)"
   ]
  },
  {
   "cell_type": "code",
   "execution_count": 26,
   "id": "3870e983-2b83-4ad2-b357-132ce64f0eaa",
   "metadata": {},
   "outputs": [
    {
     "data": {
      "text/plain": [
       "Text(0, 0.5, 'loss')"
      ]
     },
     "execution_count": 26,
     "metadata": {},
     "output_type": "execute_result"
    },
    {
     "data": {
      "image/png": "[encoded data removed]",
      "text/plain": [
       "<Figure size 640x480 with 1 Axes>"
      ]
     },
     "metadata": {},
     "output_type": "display_data"
    }
   ],
   "source": [
    "plt.plot(loss_history)\n",
    "plt.xlabel('Epoch')\n",
    "plt.ylabel('loss')"
   ]
  },
  {
   "cell_type": "markdown",
   "id": "125e3224-65e5-4cd3-8a87-72fd231ac111",
   "metadata": {},
   "source": [
    "## STEP 4. Model Test"
   ]
  },
  {
   "cell_type": "code",
   "execution_count": null,
   "id": "ee2245be-9d9d-4dde-bc04-faf6247d55ae",
   "metadata": {},
   "outputs": [],
   "source": [
    "x1_test = torch.linspace(-10,10,30) # case 1\n",
    "x2_test = torch.linspace(-10,10,30) # case 2\n",
    "X1_test, X2_test = torch.meshgrid(x1_test, x2_test)"
   ]
  }
 ],
 "metadata": {
  "kernelspec": {
   "display_name": "pytorch",
   "language": "python",
   "name": "pytorch"
  },
  "language_info": {
   "codemirror_mode": {
    "name": "ipython",
    "version": 3
   },
   "file_extension": ".py",
   "mimetype": "text/x-python",
   "name": "python",
   "nbconvert_exporter": "python",
   "pygments_lexer": "ipython3",
   "version": "3.9.18"
  }
 },
 "nbformat": 4,
 "nbformat_minor": 5
}
