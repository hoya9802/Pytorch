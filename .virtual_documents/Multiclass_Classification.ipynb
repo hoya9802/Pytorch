import torch
from torchvision import datasets, transforms
import matplotlib.pyplot as plt





# Window version
# DEVICE = "cuda" if torch.cuda.is_available() else "cpu"

# M1 MAC version
DEVICE = torch.device('mps:0' if torch.backends.mps.is_available() else 'cpu')

print(DEVICE)


# MNIST Data Load
transform = transforms.ToTensor()
train_DS = datasets.MNIST(root="path", train=True, download=True, transform=transform)
test_DS = datasets.MNIST(root="path", train=False, download=True, transform=transform)


print(train_DS)
print(test_DS)
print(len(train_DS))
print(len(test_DS))


train_DS.classes


train_DS.class_to_idx


train_DS.data.shape


train_DS.data[0]


plt.imshow(train_DS.data[0], cmap='gray')
plt.colorbar()


print(train_DS.targets[-1])
print(train_DS.targets.shape)





BATCH_SIZE = 32
train_DL = torch.utils.data.DataLoader(train_DS, batch_size=BATCH_SIZE, shuffle=True)
test_DL = torch.utils.data.DataLoader(test_DS, batch_size=BATCH_SIZE, shuffle=True)


print(len(train_DL.dataset))


x_batch, y_batch = next(iter(train_DL)) # One data group per batch
print(type(train_DS.data))
print(type(x_batch.data))
print(x_batch.shape)
print(y_batch.shape)
plt.imshow(x_batch[0].squeeze(), cmap='gray')  # if you want to get image, you should use .squeeze() function
plt.colorbar()
print(y_batch[0])

print(train_DL.dataset.data.dtype)
print(x_batch.dtype)
# Role of ToTenser
# 1. change to tensor form
# 2. change to "numberxchannelxrowxcolumn" form
# 3. switch to 0 to 1 (int -> float)





from torch import nn

class MLP(nn.Module):
    def __init__(self):
        super().__init__()

        self.linear = nn.Sequential(
            nn.Linear(784, 100),
            nn.ReLU(),
            nn.Linear(100, 10))

    def forward(self, x):
        x = self.linear(x)

        return x
