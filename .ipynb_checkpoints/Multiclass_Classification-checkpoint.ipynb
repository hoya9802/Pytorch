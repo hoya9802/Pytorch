{
 "cells": [
  {
   "cell_type": "code",
   "execution_count": 207,
   "id": "f8283589-00d2-4ac7-ba5f-fd295bfafbcc",
   "metadata": {},
   "outputs": [],
   "source": [
    "import torch\n",
    "from torchvision import datasets, transforms\n",
    "import matplotlib.pyplot as plt"
   ]
  },
  {
   "cell_type": "markdown",
   "id": "21f4aaee-3b00-4165-b4fb-f5c09b3d5882",
   "metadata": {},
   "source": [
    "## Check GPU usage on M1 MAC / Window"
   ]
  },
  {
   "cell_type": "code",
   "execution_count": 208,
   "id": "54e9d6c0-17b3-458f-b7b8-93a568f90533",
   "metadata": {},
   "outputs": [
    {
     "name": "stdout",
     "output_type": "stream",
     "text": [
      "mps:0\n"
     ]
    }
   ],
   "source": [
    "# Window version\n",
    "# DEVICE = \"cuda\" if torch.cuda.is_available() else \"cpu\"\n",
    "\n",
    "# M1 MAC version\n",
    "DEVICE = torch.device('mps:0' if torch.backends.mps.is_available() else 'cpu')\n",
    "\n",
    "print(DEVICE)"
   ]
  },
  {
   "cell_type": "code",
   "execution_count": 209,
   "id": "c0a2f5b4-7136-4a9c-b682-67de3288c952",
   "metadata": {},
   "outputs": [],
   "source": [
    "# MNIST Data Load\n",
    "transform = transforms.ToTensor()\n",
    "train_DS = datasets.MNIST(root=\"your path\", train=True, download=True, transform=transform)\n",
    "test_DS = datasets.MNIST(root=\"your path\", train=False, download=True, transform=transform)"
   ]
  },
  {
   "cell_type": "code",
   "execution_count": 210,
   "id": "2a6bba42-8c0d-425c-8a00-61b455264ad5",
   "metadata": {},
   "outputs": [
    {
     "name": "stdout",
     "output_type": "stream",
     "text": [
      "Dataset MNIST\n",
      "    Number of datapoints: 60000\n",
      "    Root location: /Users/euntaeklee/Git_Project/Pytorch/data\n",
      "    Split: Train\n",
      "    StandardTransform\n",
      "Transform: ToTensor()\n",
      "Dataset MNIST\n",
      "    Number of datapoints: 10000\n",
      "    Root location: /Users/euntaeklee/Git_Project/Pytorch/data\n",
      "    Split: Test\n",
      "    StandardTransform\n",
      "Transform: ToTensor()\n",
      "60000\n",
      "10000\n"
     ]
    }
   ],
   "source": [
    "print(train_DS)\n",
    "print(test_DS)\n",
    "print(len(train_DS))\n",
    "print(len(test_DS))"
   ]
  },
  {
   "cell_type": "code",
   "execution_count": 211,
   "id": "75dcf4d8-a834-44d3-93a2-f194013a8c2c",
   "metadata": {},
   "outputs": [
    {
     "data": {
      "text/plain": [
       "['0 - zero',\n",
       " '1 - one',\n",
       " '2 - two',\n",
       " '3 - three',\n",
       " '4 - four',\n",
       " '5 - five',\n",
       " '6 - six',\n",
       " '7 - seven',\n",
       " '8 - eight',\n",
       " '9 - nine']"
      ]
     },
     "execution_count": 211,
     "metadata": {},
     "output_type": "execute_result"
    }
   ],
   "source": [
    "train_DS.classes"
   ]
  },
  {
   "cell_type": "code",
   "execution_count": 212,
   "id": "f19791b3-1e34-462e-a4ee-b5a3820dc4cb",
   "metadata": {},
   "outputs": [
    {
     "data": {
      "text/plain": [
       "{'0 - zero': 0,\n",
       " '1 - one': 1,\n",
       " '2 - two': 2,\n",
       " '3 - three': 3,\n",
       " '4 - four': 4,\n",
       " '5 - five': 5,\n",
       " '6 - six': 6,\n",
       " '7 - seven': 7,\n",
       " '8 - eight': 8,\n",
       " '9 - nine': 9}"
      ]
     },
     "execution_count": 212,
     "metadata": {},
     "output_type": "execute_result"
    }
   ],
   "source": [
    "train_DS.class_to_idx"
   ]
  },
  {
   "cell_type": "code",
   "execution_count": 213,
   "id": "d16ace04-7d58-4b1d-93d8-468039884143",
   "metadata": {},
   "outputs": [
    {
     "data": {
      "text/plain": [
       "torch.Size([60000, 28, 28])"
      ]
     },
     "execution_count": 213,
     "metadata": {},
     "output_type": "execute_result"
    }
   ],
   "source": [
    "train_DS.data.shape"
   ]
  },
  {
   "cell_type": "code",
   "execution_count": 214,
   "id": "b5195f20-9d18-45fb-8376-9727b1594565",
   "metadata": {},
   "outputs": [
    {
     "data": {
      "text/plain": [
       "tensor([[  0,   0,   0,   0,   0,   0,   0,   0,   0,   0,   0,   0,   0,   0,\n",
       "           0,   0,   0,   0,   0,   0,   0,   0,   0,   0,   0,   0,   0,   0],\n",
       "        [  0,   0,   0,   0,   0,   0,   0,   0,   0,   0,   0,   0,   0,   0,\n",
       "           0,   0,   0,   0,   0,   0,   0,   0,   0,   0,   0,   0,   0,   0],\n",
       "        [  0,   0,   0,   0,   0,   0,   0,   0,   0,   0,   0,   0,   0,   0,\n",
       "           0,   0,   0,   0,   0,   0,   0,   0,   0,   0,   0,   0,   0,   0],\n",
       "        [  0,   0,   0,   0,   0,   0,   0,   0,   0,   0,   0,   0,   0,   0,\n",
       "           0,   0,   0,   0,   0,   0,   0,   0,   0,   0,   0,   0,   0,   0],\n",
       "        [  0,   0,   0,   0,   0,   0,   0,   0,   0,   0,   0,   0,   0,   0,\n",
       "           0,   0,   0,   0,   0,   0,   0,   0,   0,   0,   0,   0,   0,   0],\n",
       "        [  0,   0,   0,   0,   0,   0,   0,   0,   0,   0,   0,   0,   3,  18,\n",
       "          18,  18, 126, 136, 175,  26, 166, 255, 247, 127,   0,   0,   0,   0],\n",
       "        [  0,   0,   0,   0,   0,   0,   0,   0,  30,  36,  94, 154, 170, 253,\n",
       "         253, 253, 253, 253, 225, 172, 253, 242, 195,  64,   0,   0,   0,   0],\n",
       "        [  0,   0,   0,   0,   0,   0,   0,  49, 238, 253, 253, 253, 253, 253,\n",
       "         253, 253, 253, 251,  93,  82,  82,  56,  39,   0,   0,   0,   0,   0],\n",
       "        [  0,   0,   0,   0,   0,   0,   0,  18, 219, 253, 253, 253, 253, 253,\n",
       "         198, 182, 247, 241,   0,   0,   0,   0,   0,   0,   0,   0,   0,   0],\n",
       "        [  0,   0,   0,   0,   0,   0,   0,   0,  80, 156, 107, 253, 253, 205,\n",
       "          11,   0,  43, 154,   0,   0,   0,   0,   0,   0,   0,   0,   0,   0],\n",
       "        [  0,   0,   0,   0,   0,   0,   0,   0,   0,  14,   1, 154, 253,  90,\n",
       "           0,   0,   0,   0,   0,   0,   0,   0,   0,   0,   0,   0,   0,   0],\n",
       "        [  0,   0,   0,   0,   0,   0,   0,   0,   0,   0,   0, 139, 253, 190,\n",
       "           2,   0,   0,   0,   0,   0,   0,   0,   0,   0,   0,   0,   0,   0],\n",
       "        [  0,   0,   0,   0,   0,   0,   0,   0,   0,   0,   0,  11, 190, 253,\n",
       "          70,   0,   0,   0,   0,   0,   0,   0,   0,   0,   0,   0,   0,   0],\n",
       "        [  0,   0,   0,   0,   0,   0,   0,   0,   0,   0,   0,   0,  35, 241,\n",
       "         225, 160, 108,   1,   0,   0,   0,   0,   0,   0,   0,   0,   0,   0],\n",
       "        [  0,   0,   0,   0,   0,   0,   0,   0,   0,   0,   0,   0,   0,  81,\n",
       "         240, 253, 253, 119,  25,   0,   0,   0,   0,   0,   0,   0,   0,   0],\n",
       "        [  0,   0,   0,   0,   0,   0,   0,   0,   0,   0,   0,   0,   0,   0,\n",
       "          45, 186, 253, 253, 150,  27,   0,   0,   0,   0,   0,   0,   0,   0],\n",
       "        [  0,   0,   0,   0,   0,   0,   0,   0,   0,   0,   0,   0,   0,   0,\n",
       "           0,  16,  93, 252, 253, 187,   0,   0,   0,   0,   0,   0,   0,   0],\n",
       "        [  0,   0,   0,   0,   0,   0,   0,   0,   0,   0,   0,   0,   0,   0,\n",
       "           0,   0,   0, 249, 253, 249,  64,   0,   0,   0,   0,   0,   0,   0],\n",
       "        [  0,   0,   0,   0,   0,   0,   0,   0,   0,   0,   0,   0,   0,   0,\n",
       "          46, 130, 183, 253, 253, 207,   2,   0,   0,   0,   0,   0,   0,   0],\n",
       "        [  0,   0,   0,   0,   0,   0,   0,   0,   0,   0,   0,   0,  39, 148,\n",
       "         229, 253, 253, 253, 250, 182,   0,   0,   0,   0,   0,   0,   0,   0],\n",
       "        [  0,   0,   0,   0,   0,   0,   0,   0,   0,   0,  24, 114, 221, 253,\n",
       "         253, 253, 253, 201,  78,   0,   0,   0,   0,   0,   0,   0,   0,   0],\n",
       "        [  0,   0,   0,   0,   0,   0,   0,   0,  23,  66, 213, 253, 253, 253,\n",
       "         253, 198,  81,   2,   0,   0,   0,   0,   0,   0,   0,   0,   0,   0],\n",
       "        [  0,   0,   0,   0,   0,   0,  18, 171, 219, 253, 253, 253, 253, 195,\n",
       "          80,   9,   0,   0,   0,   0,   0,   0,   0,   0,   0,   0,   0,   0],\n",
       "        [  0,   0,   0,   0,  55, 172, 226, 253, 253, 253, 253, 244, 133,  11,\n",
       "           0,   0,   0,   0,   0,   0,   0,   0,   0,   0,   0,   0,   0,   0],\n",
       "        [  0,   0,   0,   0, 136, 253, 253, 253, 212, 135, 132,  16,   0,   0,\n",
       "           0,   0,   0,   0,   0,   0,   0,   0,   0,   0,   0,   0,   0,   0],\n",
       "        [  0,   0,   0,   0,   0,   0,   0,   0,   0,   0,   0,   0,   0,   0,\n",
       "           0,   0,   0,   0,   0,   0,   0,   0,   0,   0,   0,   0,   0,   0],\n",
       "        [  0,   0,   0,   0,   0,   0,   0,   0,   0,   0,   0,   0,   0,   0,\n",
       "           0,   0,   0,   0,   0,   0,   0,   0,   0,   0,   0,   0,   0,   0],\n",
       "        [  0,   0,   0,   0,   0,   0,   0,   0,   0,   0,   0,   0,   0,   0,\n",
       "           0,   0,   0,   0,   0,   0,   0,   0,   0,   0,   0,   0,   0,   0]],\n",
       "       dtype=torch.uint8)"
      ]
     },
     "execution_count": 214,
     "metadata": {},
     "output_type": "execute_result"
    }
   ],
   "source": [
    "train_DS.data[0]"
   ]
  },
  {
   "cell_type": "code",
   "execution_count": 215,
   "id": "37f9b688-9a38-4591-bf17-6be283124a75",
   "metadata": {},
   "outputs": [
    {
     "data": {
      "text/plain": [
       "<matplotlib.colorbar.Colorbar at 0x29b5492b0>"
      ]
     },
     "execution_count": 215,
     "metadata": {},
     "output_type": "execute_result"
    },
    {
     "data": {
      "image/png": "[encoded data removed]",
      "text/plain": [
       "<Figure size 640x480 with 2 Axes>"
      ]
     },
     "metadata": {},
     "output_type": "display_data"
    }
   ],
   "source": [
    "plt.imshow(train_DS.data[0], cmap='gray')\n",
    "plt.colorbar()"
   ]
  },
  {
   "cell_type": "code",
   "execution_count": 216,
   "id": "1f5df2b5-5782-485e-968b-af50738732aa",
   "metadata": {},
   "outputs": [
    {
     "name": "stdout",
     "output_type": "stream",
     "text": [
      "tensor(8)\n",
      "torch.Size([60000])\n"
     ]
    }
   ],
   "source": [
    "print(train_DS.targets[-1])\n",
    "print(train_DS.targets.shape)"
   ]
  },
  {
   "cell_type": "markdown",
   "id": "c5b41223-4ad8-4ef8-9449-5e3a5fd2be25",
   "metadata": {},
   "source": [
    "## DataLoader"
   ]
  },
  {
   "cell_type": "code",
   "execution_count": 217,
   "id": "bf086581-34cd-41d5-af58-1ca8685917b2",
   "metadata": {},
   "outputs": [],
   "source": [
    "BATCH_SIZE = 32\n",
    "train_DL = torch.utils.data.DataLoader(train_DS, batch_size=BATCH_SIZE, shuffle=True)\n",
    "test_DL = torch.utils.data.DataLoader(test_DS, batch_size=BATCH_SIZE, shuffle=True)"
   ]
  },
  {
   "cell_type": "code",
   "execution_count": 218,
   "id": "f1202fc4-6346-4bdd-ba26-9ea6e4ced20d",
   "metadata": {},
   "outputs": [
    {
     "name": "stdout",
     "output_type": "stream",
     "text": [
      "60000\n"
     ]
    }
   ],
   "source": [
    "print(len(train_DL.dataset))"
   ]
  },
  {
   "cell_type": "code",
   "execution_count": 219,
   "id": "57d5150a-7a7d-4c50-96f4-b16ab6d4586d",
   "metadata": {},
   "outputs": [
    {
     "name": "stdout",
     "output_type": "stream",
     "text": [
      "<class 'torch.Tensor'>\n",
      "<class 'torch.Tensor'>\n",
      "torch.Size([32, 1, 28, 28])\n",
      "torch.Size([32])\n",
      "tensor(3)\n",
      "torch.uint8\n",
      "torch.float32\n"
     ]
    },
    {
     "data": {
      "image/png": "[encoded data removed]",
      "text/plain": [
       "<Figure size 640x480 with 2 Axes>"
      ]
     },
     "metadata": {},
     "output_type": "display_data"
    }
   ],
   "source": [
    "x_batch, y_batch = next(iter(train_DL)) # One data group per batch\n",
    "print(type(train_DS.data))\n",
    "print(type(x_batch.data))\n",
    "print(x_batch.shape)\n",
    "print(y_batch.shape)\n",
    "plt.imshow(x_batch[0].squeeze(), cmap='gray')  # if you want to get image, you should use .squeeze() function\n",
    "plt.colorbar()\n",
    "print(y_batch[0])\n",
    "\n",
    "print(train_DL.dataset.data.dtype)\n",
    "print(x_batch.dtype)\n",
    "# Role of ToTenser\n",
    "# 1. change to tensor form\n",
    "# 2. change to \"numberxchannelxrowxcolumn\" form\n",
    "# 3. switch to 0 to 1 (int -> float)"
   ]
  },
  {
   "cell_type": "markdown",
   "id": "ab59ba6a-0c28-423f-8c02-f86628f9f293",
   "metadata": {},
   "source": [
    "## Make Model"
   ]
  },
  {
   "cell_type": "code",
   "execution_count": 220,
   "id": "8c24569a-0ab4-4183-816a-746799f23e8b",
   "metadata": {},
   "outputs": [],
   "source": [
    "class MLP(nn.Module):\n",
    "    def __init__(self):\n",
    "        super().__init__()\n",
    "\n",
    "        self.linear = nn.Sequential(\n",
    "            nn.Linear(784, 100),\n",
    "            nn.ReLU(),\n",
    "            nn.Linear(100, 10))\n",
    "\n",
    "    def forward(self, x):\n",
    "        x = torch.flatten(x, start_dim=1)\n",
    "        x = self.linear(x)\n",
    "\n",
    "        return x"
   ]
  },
  {
   "cell_type": "code",
   "execution_count": 221,
   "id": "047d92ef-903c-487f-88e7-0548b5311abb",
   "metadata": {},
   "outputs": [
    {
     "name": "stdout",
     "output_type": "stream",
     "text": [
      "torch.Size([32, 1, 28, 28])\n",
      "25088\n",
      "torch.Size([25088])\n",
      "torch.Size([32, 784])\n"
     ]
    }
   ],
   "source": [
    "# flatten\n",
    "x_batch, _ = next(iter(train_DL))\n",
    "print(x_batch.shape)\n",
    "flat_images = torch.flatten(x_batch)\n",
    "print(x_batch.shape[0]*x_batch.shape[1]*x_batch.shape[2]*x_batch.shape[-1])\n",
    "print(flat_images.shape)\n",
    "flat_images2 = torch.flatten(x_batch, start_dim=1)\n",
    "print(flat_images2.shape)"
   ]
  },
  {
   "cell_type": "code",
   "execution_count": 222,
   "id": "d2251af8-e5bd-48ed-bb7b-e8b384ab8038",
   "metadata": {},
   "outputs": [
    {
     "name": "stdout",
     "output_type": "stream",
     "text": [
      "MLP(\n",
      "  (linear): Sequential(\n",
      "    (0): Linear(in_features=784, out_features=100, bias=True)\n",
      "    (1): ReLU()\n",
      "    (2): Linear(in_features=100, out_features=10, bias=True)\n",
      "  )\n",
      ")\n",
      "torch.Size([32, 10])\n"
     ]
    }
   ],
   "source": [
    "model = MLP()\n",
    "print(model)\n",
    "print(model(x_batch).shape)"
   ]
  },
  {
   "cell_type": "markdown",
   "id": "a79ad7d4-d0b5-4d10-8a85-4912631e9440",
   "metadata": {},
   "source": [
    "## Model Train"
   ]
  },
  {
   "cell_type": "code",
   "execution_count": 223,
   "id": "09305113-2b94-4bf7-90fe-aa9029aea716",
   "metadata": {},
   "outputs": [
    {
     "data": {
      "text/plain": [
       "60000"
      ]
     },
     "execution_count": 223,
     "metadata": {},
     "output_type": "execute_result"
    }
   ],
   "source": [
    "len(train_DL.dataset)"
   ]
  },
  {
   "cell_type": "code",
   "execution_count": 224,
   "id": "4eddeec3-14ea-4da4-9e05-1c49787412ee",
   "metadata": {},
   "outputs": [],
   "source": [
    "from torch import nn\n",
    "from torch import optim\n",
    "\n",
    "lr = 1e-3\n",
    "epoch = 5\n",
    "criterion = nn.CrossEntropyLoss()\n",
    "\n",
    "def Train(model, train_DL, criterion, optimizer):\n",
    "    loss_history = []\n",
    "    NoT = len(train_DL.dataset)\n",
    "    \n",
    "    model.train()\n",
    "    for it in range(epoch):\n",
    "        rloss = 0\n",
    "        for x_batch, y_batch in train_DL:\n",
    "            x_batch = x_batch.to(DEVICE)\n",
    "            y_batch = y_batch.to(DEVICE)\n",
    "            # inference\n",
    "            y_hat = model(x_batch)\n",
    "            # loss\n",
    "            loss = criterion(y_hat, y_batch)\n",
    "            # update\n",
    "            optimizer.zero_grad() # prevent stack of gradient\n",
    "            loss.backward() # BPP\n",
    "            optimizer.step() # Weight update\n",
    "            # loss accumulation\n",
    "            loss_b = loss.item() * x_batch.shape[0]\n",
    "            rloss += loss_b\n",
    "        # print loss\n",
    "        loss_e = rloss/NoT\n",
    "        loss_history += [loss_e]\n",
    "        print(f'Epoch: {it+1}, train loss: {round(loss_e, 3)}')\n",
    "        print(\"-\"*30)\n",
    "        \n",
    "    return loss_history"
   ]
  },
  {
   "cell_type": "markdown",
   "id": "ca206d04-5ac8-4f44-9656-f95bb328bce7",
   "metadata": {},
   "source": [
    "## Let's check Cross Entropy (Why didn't I put softmax on the model?)"
   ]
  },
  {
   "cell_type": "code",
   "execution_count": 225,
   "id": "6f322860-3dcc-48e9-895c-73cbf974b025",
   "metadata": {},
   "outputs": [
    {
     "name": "stdout",
     "output_type": "stream",
     "text": [
      "tensor([[-1.4473,  0.1783, -1.1942, -0.6450,  0.6024],\n",
      "        [ 0.4469,  0.8590,  2.0383,  0.1017,  0.3473],\n",
      "        [ 0.1339,  1.9371,  1.0125, -0.3458,  0.3622]])\n",
      "tensor([4, 3, 2])\n",
      "tensor(1.6339)\n",
      "tensor(1.6339)\n",
      "tensor([[0.0576, 0.2926, 0.0742, 0.1285, 0.4472],\n",
      "        [0.1107, 0.1672, 0.5436, 0.0784, 0.1002],\n",
      "        [0.0881, 0.5346, 0.2121, 0.0545, 0.1107]])\n",
      "0 tensor([0.0576, 0.2926, 0.0742, 0.1285, 0.4472])\n",
      "1 tensor([0.1107, 0.1672, 0.5436, 0.0784, 0.1002])\n",
      "2 tensor([0.0881, 0.5346, 0.2121, 0.0545, 0.1107])\n",
      "tensor(1.6339)\n"
     ]
    }
   ],
   "source": [
    "# various way to calculate cross entropy\n",
    "import torch.nn.functional as F\n",
    "\n",
    "y_hat = torch.randn(3,5) # Assume there are three types of data\n",
    "print(y_hat) # The sum of rows before passing through the softmax layer is not 1\n",
    "y_batch = torch.randint(5, (3,))\n",
    "print(y_batch)\n",
    "\n",
    "# method 1\n",
    "loss = F.cross_entropy(y_hat, y_batch) # It already has a built-in softmax.\n",
    "print(loss)\n",
    "\n",
    "# method 2\n",
    "criterion = nn.CrossEntropyLoss() # It already has a built-in softmax.\n",
    "print(criterion(y_hat, y_batch))\n",
    "\n",
    "# method 3\n",
    "y_hat_soft = F.softmax(y_hat, dim=1)\n",
    "print(y_hat_soft)\n",
    "loss = 0\n",
    "for i, val in enumerate(y_hat_soft):\n",
    "    print(i, val)\n",
    "    loss += -torch.log(val[y_batch[i]])\n",
    "print(loss/3)"
   ]
  },
  {
   "cell_type": "code",
   "execution_count": 226,
   "id": "91b1b0cc-e7b2-45fc-9cd7-14beac56bbc7",
   "metadata": {},
   "outputs": [
    {
     "name": "stdout",
     "output_type": "stream",
     "text": [
      "Epoch: 1, train loss: 0.308\n",
      "------------------------------\n",
      "Epoch: 2, train loss: 0.142\n",
      "------------------------------\n",
      "Epoch: 3, train loss: 0.097\n",
      "------------------------------\n",
      "Epoch: 4, train loss: 0.073\n",
      "------------------------------\n",
      "Epoch: 5, train loss: 0.058\n",
      "------------------------------\n"
     ]
    },
    {
     "data": {
      "image/png": "[encoded data removed]",
      "text/plain": [
       "<Figure size 640x480 with 1 Axes>"
      ]
     },
     "metadata": {},
     "output_type": "display_data"
    }
   ],
   "source": [
    "model = MLP().to(DEVICE) # you should upload x_batch, y_batch, model into GPU device!\n",
    "optimizer = optim.Adam(model.parameters(), lr=lr)\n",
    "loss_history = Train(model, train_DL, criterion, optimizer)\n",
    "\n",
    "plt.plot(range(1, epoch+1), loss_history)\n",
    "plt.xlabel('Epoch')\n",
    "plt.ylabel('Loss')\n",
    "plt.title('Train Loss')\n",
    "plt.grid()"
   ]
  },
  {
   "cell_type": "markdown",
   "id": "14fa1122-2c4c-4ac5-8e37-22c94e8d9d81",
   "metadata": {},
   "source": [
    "## Model Save & Load Model"
   ]
  },
  {
   "cell_type": "code",
   "execution_count": 228,
   "id": "bab2ef09-398d-431d-933a-2876ee1d209f",
   "metadata": {},
   "outputs": [],
   "source": [
    "save_model_path = \"your path/result/MLP_MNIST.pt\"\n",
    "torch.save(model.state_dict(), save_model_path)"
   ]
  },
  {
   "cell_type": "code",
   "execution_count": 230,
   "id": "2b75b1a1-b9ab-499a-83c8-9c2bc2ee56a2",
   "metadata": {},
   "outputs": [
    {
     "data": {
      "text/plain": [
       "<All keys matched successfully>"
      ]
     },
     "execution_count": 230,
     "metadata": {},
     "output_type": "execute_result"
    }
   ],
   "source": [
    "load_model = MLP().to(DEVICE)\n",
    "load_model.load_state_dict(torch.load(save_model_path))\n",
    "# You need map_location to recall what you learned with the GPU to the current device."
   ]
  },
  {
   "cell_type": "markdown",
   "id": "29f6db86-864d-4851-8cc2-2cfe1cafd111",
   "metadata": {},
   "source": [
    "## Model test "
   ]
  },
  {
   "cell_type": "code",
   "execution_count": 285,
   "id": "3c863a7e-6ce4-4fdc-b4ea-73e63dc1ec7b",
   "metadata": {},
   "outputs": [],
   "source": [
    "def Test(model, test_DL):\n",
    "    model.eval()\n",
    "    with torch.no_grad():\n",
    "        rcorrect = 0\n",
    "        for x_batch, y_batch in test_DL:\n",
    "            x_batch = x_batch.to(DEVICE)\n",
    "            y_batch = y_batch.to(DEVICE)\n",
    "            # inference\n",
    "            y_hat = model(x_batch)\n",
    "            # accuracy accumulation\n",
    "            pred = y_hat.argmax(dim=1)\n",
    "            corrects_b = torch.sum(pred == y_batch).item()\n",
    "            rcorrect += corrects_b\n",
    "        accuracy_e = rcorrect/len(test_DL.dataset) * 100\n",
    "    print(f\"Test accuracy: {rcorrect}/{len(test_DL.dataset)} ({round(accuracy_e,2)} %)\")"
   ]
  },
  {
   "cell_type": "code",
   "execution_count": 286,
   "id": "08c0d5e1-ad1a-4f55-97b2-2907f66065da",
   "metadata": {},
   "outputs": [
    {
     "name": "stdout",
     "output_type": "stream",
     "text": [
      "Test accuracy: 9760/10000 (97.6 %)\n"
     ]
    }
   ],
   "source": [
    "Test(load_model, test_DL)"
   ]
  },
  {
   "cell_type": "code",
   "execution_count": 293,
   "id": "0db508fd-1aef-496b-b913-5c7af11fbf34",
   "metadata": {},
   "outputs": [],
   "source": [
    "def Test_plot(model, test_DL):\n",
    "    model.eval()\n",
    "    with torch.no_grad():\n",
    "        x_batch, y_batch = next(iter(test_DL))\n",
    "        x_batch = x_batch.to(DEVICE)\n",
    "        y_hat = model(x_batch)\n",
    "        pred = y_hat.argmax(dim=1)\n",
    "    x_batch = x_batch.to('cpu')\n",
    "\n",
    "    plt.figure(figsize=(8,4))\n",
    "    for idx in range(6):\n",
    "        plt.subplot(2, 3, idx+1, xticks=[], yticks=[])\n",
    "        plt.imshow(x_batch[idx].permute(1,2,0).squeeze(), cmap='gray')\n",
    "        pred_class = test_DL.dataset.classes[pred[idx]]\n",
    "        true_class = test_DL.dataset.classes[y_batch[idx]]\n",
    "        plt.title(f\"{pred_class} ({true_class})\", color = 'g' if pred_class==true_class else \"r\")"
   ]
  },
  {
   "cell_type": "code",
   "execution_count": 294,
   "id": "3c4f2695-796f-43b4-bb5c-0e1e2fa754dc",
   "metadata": {},
   "outputs": [
    {
     "data": {
      "image/png": "[encoded data removed]",
      "text/plain": [
       "<Figure size 800x400 with 6 Axes>"
      ]
     },
     "metadata": {},
     "output_type": "display_data"
    }
   ],
   "source": [
    "Test_plot(load_model, test_DL)"
   ]
  },
  {
   "cell_type": "code",
   "execution_count": 297,
   "id": "a6c32ceb-b371-4315-a123-dd2343c40a0b",
   "metadata": {},
   "outputs": [],
   "source": [
    "# get trainable parameters\n",
    "def count_params(model):\n",
    "    num = sum([p.numel() for p in model.parameters() if p.requires_grad])\n",
    "    return num"
   ]
  },
  {
   "cell_type": "code",
   "execution_count": 298,
   "id": "03559dff-4704-4f7f-a5fd-bd34432a6784",
   "metadata": {},
   "outputs": [
    {
     "name": "stdout",
     "output_type": "stream",
     "text": [
      "79510\n"
     ]
    }
   ],
   "source": [
    "print(count_params(model))"
   ]
  },
  {
   "cell_type": "code",
   "execution_count": null,
   "id": "3aeb31a9-9d23-4afe-8d80-5782d9530b99",
   "metadata": {},
   "outputs": [],
   "source": []
  }
 ],
 "metadata": {
  "kernelspec": {
   "display_name": "pytorch",
   "language": "python",
   "name": "pytorch"
  },
  "language_info": {
   "codemirror_mode": {
    "name": "ipython",
    "version": 3
   },
   "file_extension": ".py",
   "mimetype": "text/x-python",
   "name": "python",
   "nbconvert_exporter": "python",
   "pygments_lexer": "ipython3",
   "version": "3.9.18"
  }
 },
 "nbformat": 4,
 "nbformat_minor": 5
}
