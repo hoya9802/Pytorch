{
 "cells": [
  {
   "cell_type": "markdown",
   "id": "92355a57-0d73-4fbf-9f72-70e0fc0884bc",
   "metadata": {},
   "source": [
    "# Make Simple Neural Network"
   ]
  },
  {
   "cell_type": "code",
   "execution_count": 1,
   "id": "7b534e6c-3062-45a2-85c2-d96e642a7ba1",
   "metadata": {},
   "outputs": [],
   "source": [
    "import torch\n",
    "from torch import nn"
   ]
  },
  {
   "cell_type": "code",
   "execution_count": 19,
   "id": "7c78854b-f9d8-49a1-bd56-e044598901a5",
   "metadata": {},
   "outputs": [
    {
     "name": "stdout",
     "output_type": "stream",
     "text": [
      "Parameter containing:\n",
      "tensor([[-0.7029]], requires_grad=True)\n",
      "Parameter containing:\n",
      "tensor([-0.3070], requires_grad=True)\n",
      "tensor([-1.0099], grad_fn=<AddBackward0>)\n",
      "============================================================\n",
      "tensor([-1.0099], grad_fn=<AddBackward0>)\n"
     ]
    }
   ],
   "source": [
    "x = torch.tensor([1.])\n",
    "model = nn.Linear(1,1)   # 1 linear unit with input node 1, output node 1\n",
    "\n",
    "# Initialize weight, bias of model as you create it\n",
    "print(model.weight)\n",
    "print(model.bias)\n",
    "\n",
    "y = model(x)\n",
    "print(y)\n",
    "print('=='*30)\n",
    "y = x @ model.weight + model.bias\n",
    "print(y)"
   ]
  },
  {
   "cell_type": "code",
   "execution_count": 30,
   "id": "b953330d-2762-449e-b02d-68150d502ce8",
   "metadata": {},
   "outputs": [
    {
     "name": "stdout",
     "output_type": "stream",
     "text": [
      "Parameter containing:\n",
      "tensor([[-0.8834],\n",
      "        [ 0.7991],\n",
      "        [-0.6759]], requires_grad=True)\n",
      "Parameter containing:\n",
      "tensor([0.9296, 0.7428, 0.4460], requires_grad=True)\n",
      "Parameter containing:\n",
      "tensor([[ 0.1581,  0.0042, -0.3152]], requires_grad=True)\n",
      "Parameter containing:\n",
      "tensor([0.1063], requires_grad=True)\n",
      "============================================================\n",
      "tensor([ 0.0463,  1.5420, -0.2298], grad_fn=<AddBackward0>)\n",
      "tensor([0.1926], grad_fn=<AddBackward0>)\n",
      "============================================================\n",
      "tensor([0.1926], grad_fn=<AddBackward0>)\n"
     ]
    }
   ],
   "source": [
    "# fully connected layer\n",
    "fc1 = nn.Linear(1,3)\n",
    "fc2 = nn.Linear(3,1)\n",
    "\n",
    "print(fc1.weight)\n",
    "print(fc1.bias)\n",
    "print(fc2.weight)\n",
    "print(fc2.bias)\n",
    "print('=='*30)\n",
    "x = torch.tensor([1.])\n",
    "x = fc1(x)\n",
    "print(x)\n",
    "x = fc2(x)\n",
    "print(x)\n",
    "print('=='*30)\n",
    "x = torch.tensor([1.])\n",
    "print((x@fc1.weight.T + fc1.bias)@fc2.weight.T + fc2.bias)"
   ]
  },
  {
   "cell_type": "markdown",
   "id": "5d0489b0-9592-4618-a507-1bc92e3e1d08",
   "metadata": {},
   "source": [
    "## Why doesn't nn.Linear() automatically transpose its shape from the start, but instead transpose inside the function and then proceeds with inner product?\n",
    " -  https://pytorch.org/docs/stable/generated/torch.nn.Linear.html\n",
    "### nn.Linear() function want to get the data form (1D data) of \"channel\" in \"number\"x\"channel\"x\"row\"x\"column\"\n",
    "### Node 1 is equal to 1 channel\n",
    "### If you want a lot of data to pass through, you have to give it in the form of the number x channel\n",
    "### why .T? it's because they also want to make weight like numberxchannel form\n",
    "### First of all, \"channel\" in the weight shape in \"number\"x\"channel\" must match the number of pre-channel\n",
    "### for example, nn.Linear(2,3) means The number of channels in front of the weights is 2, so if you convert it to number x channel format, it is ?x2. And we make 3 number of nodes by using 2 nodes. So it become 3(number)x2(channel)."
   ]
  },
  {
   "cell_type": "code",
   "execution_count": 31,
   "id": "4e90480a-21e3-433c-985d-633d3b9784f6",
   "metadata": {},
   "outputs": [
    {
     "name": "stdout",
     "output_type": "stream",
     "text": [
      "tensor([-1.0099], grad_fn=<AddBackward0>)\n"
     ]
    }
   ],
   "source": [
    "fc1 = nn.Linear(1,3)\n",
    "fc2 = nn.Linear(3,1)\n",
    "\n",
    "nn.Sequential(fc1, fc2) # connect each layers\n",
    "\n",
    "x = torch.tensor([1.])\n",
    "print(model(x))"
   ]
  },
  {
   "cell_type": "code",
   "execution_count": 37,
   "id": "bbff748c-c50c-449d-9932-71f3fbde8e6b",
   "metadata": {},
   "outputs": [
    {
     "name": "stdout",
     "output_type": "stream",
     "text": [
      "tensor([-1.1612,  0.3413])\n",
      "tensor([ 0.4130, -0.3833,  0.9307], grad_fn=<AddBackward0>)\n",
      "tensor([[-0.4366, -1.5420]])\n",
      "tensor([[-0.1054, -0.1389,  0.0686]], grad_fn=<AddmmBackward0>)\n",
      "==========================================================================================\n",
      "tensor([[-0.8385,  1.7113],\n",
      "        [ 2.1997,  0.2398],\n",
      "        [-0.3846, -1.2734],\n",
      "        [ 1.2926, -1.0161],\n",
      "        [ 1.5963,  1.7550]])\n",
      "tensor([[ 0.7114, -0.3845,  1.2125],\n",
      "        [ 0.0770,  0.3204, -0.4656],\n",
      "        [-0.0459, -0.1414,  0.1284],\n",
      "        [-0.1397,  0.1944, -0.4755],\n",
      "        [ 0.4961,  0.1195,  0.2364]], grad_fn=<AddmmBackward0>)\n",
      "==========================================================================================\n",
      "torch.Size([2, 3, 1, 4, 5, 3])\n"
     ]
    }
   ],
   "source": [
    "model = nn.Sequential(nn.Linear(2,5),     # it means nn.Linear(\"channel\", \"channel\")\n",
    "              nn.Linear(5,10),\n",
    "              nn.Linear(10,3))\n",
    "\n",
    "x = torch.randn(2)\n",
    "print(x)\n",
    "print(model(x))\n",
    "\n",
    "x = torch.randn(1,2)\n",
    "print(x)\n",
    "print(model(x))\n",
    "\n",
    "print(\"===\"*30)\n",
    "x = torch.randn(5,2) # randn(number, channel)\n",
    "print(x)\n",
    "print(model(x))\n",
    "\n",
    "print(\"===\"*30)\n",
    "x = torch.randn(2,3,1,4,5,2)\n",
    "print(model(x).shape)        # Only the last number is \"channel\". Everything else is \"number\""
   ]
  },
  {
   "cell_type": "code",
   "execution_count": 39,
   "id": "cfb87863-6e21-4ab1-b8b1-c52f680bb870",
   "metadata": {},
   "outputs": [
    {
     "name": "stdout",
     "output_type": "stream",
     "text": [
      "tensor([[0.5572, 0.4649, 0.5630],\n",
      "        [0.5578, 0.4662, 0.5639],\n",
      "        [0.5596, 0.4694, 0.5644],\n",
      "        [0.5592, 0.4689, 0.5644],\n",
      "        [0.5570, 0.4650, 0.5641]], grad_fn=<SigmoidBackward0>)\n"
     ]
    }
   ],
   "source": [
    "class Mymodel1(nn.Module):\n",
    "    def __init__(self):\n",
    "        super().__init__()\n",
    "\n",
    "        self.fc1 = nn.Linear(2,5)\n",
    "        self.fc2 = nn.Linear(5,10)\n",
    "        self.fc3 = nn.Linear(10,3)\n",
    "        self.sig = nn.Sigmoid()\n",
    "    \n",
    "    def forward(self, x):\n",
    "        x = self.fc1(x)\n",
    "        x = self.sig(x)\n",
    "        x = self.fc2(x)\n",
    "        x = self.sig(x)\n",
    "        x = self.fc3(x)\n",
    "        x = self.sig(x)\n",
    "        \n",
    "        return x\n",
    "\n",
    "model = Mymodel1()\n",
    "x = torch.randn(5,2)\n",
    "y = model(x)\n",
    "print(y)"
   ]
  },
  {
   "cell_type": "code",
   "execution_count": 42,
   "id": "31b25b8e-5d23-46c3-a85d-7ff807e6a631",
   "metadata": {},
   "outputs": [
    {
     "name": "stdout",
     "output_type": "stream",
     "text": [
      "Mymodel(\n",
      "  (fc1): Linear(in_features=2, out_features=5, bias=True)\n",
      "  (fc2): Linear(in_features=5, out_features=10, bias=True)\n",
      "  (fc3): Linear(in_features=10, out_features=3, bias=True)\n",
      "  (sig): Sigmoid()\n",
      ")\n",
      "Parameter containing:\n",
      "tensor([[ 0.3019, -0.2733],\n",
      "        [ 0.5543,  0.2998],\n",
      "        [-0.6582, -0.5331],\n",
      "        [ 0.1604,  0.3092],\n",
      "        [ 0.0419,  0.4929]], requires_grad=True)\n",
      "Parameter containing:\n",
      "tensor([ 0.2913,  0.2769, -0.0643, -0.2963, -0.2671,  0.0051, -0.1334, -0.1296,\n",
      "         0.4072, -0.1227], requires_grad=True)\n"
     ]
    }
   ],
   "source": [
    "print(model)\n",
    "print(model.fc1.weight)\n",
    "print(model.fc2.bias)"
   ]
  },
  {
   "cell_type": "code",
   "execution_count": 60,
   "id": "ddd9570e-d1b7-4448-a3e5-ac8bd84f04e5",
   "metadata": {},
   "outputs": [
    {
     "name": "stdout",
     "output_type": "stream",
     "text": [
      "tensor([[0.4505, 0.4297, 0.5781],\n",
      "        [0.4481, 0.4295, 0.5769],\n",
      "        [0.4501, 0.4294, 0.5779],\n",
      "        [0.4492, 0.4277, 0.5772],\n",
      "        [0.4480, 0.4280, 0.5766]], grad_fn=<SigmoidBackward0>)\n"
     ]
    }
   ],
   "source": [
    "class Mymodel2(nn.Module):\n",
    "    def __init__(self):\n",
    "        super().__init__()\n",
    "\n",
    "        self.linear = nn.Sequential(nn.Linear(2,5),\n",
    "                                    nn.Sigmoid(),\n",
    "                                    nn.Linear(5,10),\n",
    "                                    nn.Sigmoid(),\n",
    "                                    nn.Linear(10,3),\n",
    "                                    nn.Sigmoid())\n",
    "    \n",
    "    def forward(self, x):\n",
    "        x = self.linear(x)\n",
    "        \n",
    "        return x\n",
    "\n",
    "model2 = Mymodel2()\n",
    "x = torch.randn(5,2)\n",
    "y = model2(x)\n",
    "print(y)"
   ]
  },
  {
   "cell_type": "code",
   "execution_count": 68,
   "id": "4d4b23c5-e004-46ea-8636-36e485004a5f",
   "metadata": {},
   "outputs": [
    {
     "name": "stdout",
     "output_type": "stream",
     "text": [
      "Parameter containing:\n",
      "tensor([[ 0.6794, -0.1821],\n",
      "        [-0.1408, -0.0258],\n",
      "        [ 0.0923,  0.1911],\n",
      "        [-0.4935,  0.3658],\n",
      "        [-0.0263, -0.1386]], requires_grad=True)\n",
      "Parameter containing:\n",
      "tensor([-0.2640, -0.2410,  0.1625], requires_grad=True)\n"
     ]
    }
   ],
   "source": [
    "print(model2.linear[0].weight)\n",
    "print(model2.linear[-2].bias)"
   ]
  },
  {
   "cell_type": "code",
   "execution_count": 69,
   "id": "15c7bd65-2cde-4cd6-8778-4c59b3ec0ef5",
   "metadata": {},
   "outputs": [
    {
     "data": {
      "text/plain": [
       "[Parameter containing:\n",
       " tensor([[-0.2910, -0.0544],\n",
       "         [-0.2206,  0.5108],\n",
       "         [-0.6840,  0.2542],\n",
       "         [-0.1203,  0.4492],\n",
       "         [ 0.4058, -0.1481]], requires_grad=True),\n",
       " Parameter containing:\n",
       " tensor([-0.5269,  0.0564, -0.5545, -0.4782,  0.6395], requires_grad=True),\n",
       " Parameter containing:\n",
       " tensor([[ 0.1453, -0.0690, -0.3936, -0.2466,  0.1901],\n",
       "         [-0.2212, -0.2437,  0.1502,  0.3247, -0.0909],\n",
       "         [ 0.1654, -0.3885, -0.0308,  0.2897,  0.3328],\n",
       "         [ 0.4319,  0.3137,  0.2287, -0.1159,  0.2526],\n",
       "         [-0.0755, -0.3308, -0.0101,  0.0570,  0.2057],\n",
       "         [-0.0274, -0.1680,  0.2784, -0.4458, -0.3221],\n",
       "         [-0.4331,  0.1470, -0.0375,  0.3969,  0.3828],\n",
       "         [ 0.0179, -0.0319, -0.2022, -0.0397,  0.2068],\n",
       "         [ 0.3457,  0.0375, -0.0965, -0.0563, -0.2741],\n",
       "         [ 0.4264, -0.0435,  0.2967,  0.4086, -0.3839]], requires_grad=True),\n",
       " Parameter containing:\n",
       " tensor([ 0.0791, -0.2150, -0.1478, -0.4296,  0.0831, -0.3926,  0.1757,  0.4294,\n",
       "         -0.3520, -0.4036], requires_grad=True),\n",
       " Parameter containing:\n",
       " tensor([[-0.0202, -0.0967, -0.0548, -0.1112,  0.2643,  0.1071,  0.1155,  0.1464,\n",
       "          -0.1152,  0.0281],\n",
       "         [-0.0324, -0.1497, -0.0593,  0.1997, -0.2666, -0.2746,  0.0686,  0.0266,\n",
       "           0.0913,  0.2532],\n",
       "         [ 0.0739, -0.1641,  0.0475,  0.0262,  0.3011,  0.2984, -0.2212, -0.0471,\n",
       "           0.0569, -0.2928]], requires_grad=True),\n",
       " Parameter containing:\n",
       " tensor([ 0.2321,  0.0464, -0.2857], requires_grad=True)]"
      ]
     },
     "execution_count": 69,
     "metadata": {},
     "output_type": "execute_result"
    }
   ],
   "source": [
    "list(model.parameters())"
   ]
  },
  {
   "cell_type": "code",
   "execution_count": 75,
   "id": "af8f117d-8f7a-4941-aaf5-1185063a0efc",
   "metadata": {},
   "outputs": [
    {
     "name": "stdout",
     "output_type": "stream",
     "text": [
      "108\n"
     ]
    }
   ],
   "source": [
    "# you can get the number of parameters\n",
    "num = sum([p.numel() for p in model.parameters() if p.requires_grad])\n",
    "print(num)"
   ]
  },
  {
   "cell_type": "markdown",
   "id": "d7516c5b-b68d-4087-912d-d4f8d4f1a505",
   "metadata": {},
   "source": [
    "## Weight Initialization\n",
    " - https://pytorch.org/docs/stable/nn.init.html"
   ]
  },
  {
   "cell_type": "code",
   "execution_count": 80,
   "id": "a79af3f3-6265-4639-9128-43ad31c0e0a4",
   "metadata": {},
   "outputs": [
    {
     "name": "stdout",
     "output_type": "stream",
     "text": [
      "tensor(0.0200)\n",
      "tensor(0.0200)\n",
      "tensor(0.0447)\n",
      "tensor(0.0447)\n",
      "tensor(0.0228)\n",
      "tensor(0.0228)\n"
     ]
    }
   ],
   "source": [
    "import torch\n",
    "from torch import nn\n",
    "\n",
    "Fin = 5000\n",
    "Fout = 1000\n",
    "w = torch.zeros(141, Fin)\n",
    "nn.init.kaiming_uniform_(w, mode=\"fan_in\", nonlinearity='relu')\n",
    "print(w.std())\n",
    "print(torch.sqrt(torch.tensor(2/Fin)))\n",
    "\n",
    "w = torch.zeros(Fout, 212)\n",
    "nn.init.kaiming_uniform_(w, mode=\"fan_out\", nonlinearity=\"relu\")\n",
    "print(w.std())\n",
    "print(torch.sqrt(torch.tensor(2/Fout)))\n",
    "\n",
    "# CNN?\n",
    "N=32\n",
    "C=64\n",
    "H=6\n",
    "W=10\n",
    "w = torch.zeros(N,C,H,W)\n",
    "nn.init.kaiming_uniform_(w, mode='fan_in', nonlinearity='relu')\n",
    "print(w.std())\n",
    "print(torch.sqrt(torch.tensor(2/(C*H*W))))"
   ]
  },
  {
   "cell_type": "code",
   "execution_count": null,
   "id": "f72037e5-adb9-4d92-b967-8df6e1b7971d",
   "metadata": {},
   "outputs": [],
   "source": []
  }
 ],
 "metadata": {
  "kernelspec": {
   "display_name": "pytorch",
   "language": "python",
   "name": "pytorch"
  },
  "language_info": {
   "codemirror_mode": {
    "name": "ipython",
    "version": 3
   },
   "file_extension": ".py",
   "mimetype": "text/x-python",
   "name": "python",
   "nbconvert_exporter": "python",
   "pygments_lexer": "ipython3",
   "version": "3.9.18"
  }
 },
 "nbformat": 4,
 "nbformat_minor": 5
}
