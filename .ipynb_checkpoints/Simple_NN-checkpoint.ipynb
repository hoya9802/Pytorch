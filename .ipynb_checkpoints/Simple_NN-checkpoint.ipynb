{
 "cells": [
  {
   "cell_type": "markdown",
   "id": "92355a57-0d73-4fbf-9f72-70e0fc0884bc",
   "metadata": {},
   "source": [
    "# Make Simple Neural Network"
   ]
  },
  {
   "cell_type": "code",
   "execution_count": 1,
   "id": "7b534e6c-3062-45a2-85c2-d96e642a7ba1",
   "metadata": {},
   "outputs": [],
   "source": [
    "import torch\n",
    "from torch import nn"
   ]
  },
  {
   "cell_type": "code",
   "execution_count": 19,
   "id": "7c78854b-f9d8-49a1-bd56-e044598901a5",
   "metadata": {},
   "outputs": [
    {
     "name": "stdout",
     "output_type": "stream",
     "text": [
      "Parameter containing:\n",
      "tensor([[-0.7029]], requires_grad=True)\n",
      "Parameter containing:\n",
      "tensor([-0.3070], requires_grad=True)\n",
      "tensor([-1.0099], grad_fn=<AddBackward0>)\n",
      "============================================================\n",
      "tensor([-1.0099], grad_fn=<AddBackward0>)\n"
     ]
    }
   ],
   "source": [
    "x = torch.tensor([1.])\n",
    "model = nn.Linear(1,1)   # 1 linear unit with input node 1, output node 1\n",
    "\n",
    "# Initialize weight, bias of model as you create it\n",
    "print(model.weight)\n",
    "print(model.bias)\n",
    "\n",
    "y = model(x)\n",
    "print(y)\n",
    "print('=='*30)\n",
    "y = x @ model.weight + model.bias\n",
    "print(y)"
   ]
  },
  {
   "cell_type": "code",
   "execution_count": 20,
   "id": "b953330d-2762-449e-b02d-68150d502ce8",
   "metadata": {},
   "outputs": [
    {
     "name": "stdout",
     "output_type": "stream",
     "text": [
      "Parameter containing:\n",
      "tensor([[ 0.6826],\n",
      "        [ 0.3529],\n",
      "        [-0.6539]], requires_grad=True)\n",
      "Parameter containing:\n",
      "tensor([-0.7301,  0.7881, -0.9105], requires_grad=True)\n",
      "Parameter containing:\n",
      "tensor([[-0.5337,  0.1356, -0.3636]], requires_grad=True)\n",
      "Parameter containing:\n",
      "tensor([-0.5476], requires_grad=True)\n"
     ]
    }
   ],
   "source": [
    "# fully connected layer\n",
    "fc1 = nn.Linear(1,3)\n",
    "fc2 = nn.Linear(3,1)\n",
    "\n",
    "print(fc1.weight)\n",
    "print(fc1.bias)\n",
    "print(fc2.weight)\n",
    "print(fc2.bias)"
   ]
  },
  {
   "cell_type": "code",
   "execution_count": null,
   "id": "e1a7eb07-066c-4737-9f06-9b6e88c1070a",
   "metadata": {},
   "outputs": [],
   "source": []
  }
 ],
 "metadata": {
  "kernelspec": {
   "display_name": "pytorch",
   "language": "python",
   "name": "pytorch"
  },
  "language_info": {
   "codemirror_mode": {
    "name": "ipython",
    "version": 3
   },
   "file_extension": ".py",
   "mimetype": "text/x-python",
   "name": "python",
   "nbconvert_exporter": "python",
   "pygments_lexer": "ipython3",
   "version": "3.9.18"
  }
 },
 "nbformat": 4,
 "nbformat_minor": 5
}
