{
 "cells": [
  {
   "cell_type": "code",
   "execution_count": 2,
   "id": "14ce4617-4b48-408f-b236-7846c4313684",
   "metadata": {},
   "outputs": [],
   "source": [
    "import torch\n",
    "from torch import nn"
   ]
  },
  {
   "cell_type": "markdown",
   "id": "cba32b55-47aa-4484-8e71-844dfede8331",
   "metadata": {},
   "source": [
    "## .parameters() vs .modules() vs .children() and use of isinstance"
   ]
  },
  {
   "cell_type": "code",
   "execution_count": 15,
   "id": "a4b9d471-7551-48e3-84bb-ae37bb760e3a",
   "metadata": {},
   "outputs": [],
   "source": [
    "class MLP(nn.Module):\n",
    "    def __init__(self):\n",
    "        super().__init__()\n",
    "\n",
    "        self.fc1 = nn.Sequential(\n",
    "            nn.Linear(2,3),\n",
    "            nn.ReLU())\n",
    "        \n",
    "        self.fc2 = nn.Sequential(\n",
    "            nn.Linear(3,4),\n",
    "            nn.ReLU())\n",
    "\n",
    "        self.fc_out = nn.Sequential(\n",
    "            nn.Linear(4,1),\n",
    "            nn.Sigmoid())\n",
    "\n",
    "    def forward(self, x):\n",
    "        x = self.fc1(x)\n",
    "        x = self.fc2(x)\n",
    "        x = self.fc_out(x)\n",
    "        \n",
    "        return x"
   ]
  },
  {
   "cell_type": "code",
   "execution_count": 16,
   "id": "c8a1cb98-ab21-4d2c-8a4c-b67ceff417bd",
   "metadata": {},
   "outputs": [
    {
     "name": "stdout",
     "output_type": "stream",
     "text": [
      "torch.Size([2, 1])\n",
      "MLP(\n",
      "  (fc1): Sequential(\n",
      "    (0): Linear(in_features=2, out_features=3, bias=True)\n",
      "    (1): ReLU()\n",
      "  )\n",
      "  (fc2): Sequential(\n",
      "    (0): Linear(in_features=3, out_features=4, bias=True)\n",
      "    (1): ReLU()\n",
      "  )\n",
      "  (fc_out): Sequential(\n",
      "    (0): Linear(in_features=4, out_features=1, bias=True)\n",
      "    (1): Sigmoid()\n",
      "  )\n",
      ")\n"
     ]
    }
   ],
   "source": [
    "model = MLP()\n",
    "print(model(torch.randn(2,2)).shape)\n",
    "print(model)"
   ]
  },
  {
   "cell_type": "code",
   "execution_count": 17,
   "id": "06398144-23a4-4b4b-bb59-49c06a0e00ae",
   "metadata": {},
   "outputs": [
    {
     "data": {
      "text/plain": [
       "[Parameter containing:\n",
       " tensor([[-0.3175,  0.5478],\n",
       "         [-0.5563, -0.1145],\n",
       "         [-0.0160, -0.4649]], requires_grad=True),\n",
       " Parameter containing:\n",
       " tensor([ 0.1935, -0.2049,  0.0430], requires_grad=True),\n",
       " Parameter containing:\n",
       " tensor([[ 0.2744, -0.3202, -0.2248],\n",
       "         [-0.4927, -0.0760, -0.1611],\n",
       "         [ 0.5661,  0.1391, -0.3362],\n",
       "         [ 0.5018,  0.4406,  0.0258]], requires_grad=True),\n",
       " Parameter containing:\n",
       " tensor([ 0.1454, -0.0329, -0.4958, -0.4972], requires_grad=True),\n",
       " Parameter containing:\n",
       " tensor([[ 0.2405, -0.3910, -0.2822, -0.3223]], requires_grad=True),\n",
       " Parameter containing:\n",
       " tensor([-0.0872], requires_grad=True)]"
      ]
     },
     "execution_count": 17,
     "metadata": {},
     "output_type": "execute_result"
    }
   ],
   "source": [
    "list(model.parameters())\n",
    "# [weights of layer0, bias of layer0, weights of layer1, bias of layer1, ...]"
   ]
  },
  {
   "cell_type": "code",
   "execution_count": 22,
   "id": "87d24937-2b8a-4c2b-b50c-03c0dd2aa072",
   "metadata": {},
   "outputs": [
    {
     "name": "stdout",
     "output_type": "stream",
     "text": [
      "[Parameter containing:\n",
      "tensor([[-0.0446, -0.5147],\n",
      "        [-0.6061, -0.6079],\n",
      "        [-0.3588,  0.3693]], requires_grad=True), Parameter containing:\n",
      "tensor([0.3321, 0.6777, 0.0884], requires_grad=True), Parameter containing:\n",
      "tensor([[ 0.0613, -0.4069, -0.0708],\n",
      "        [-0.0148,  0.2663, -0.2451],\n",
      "        [-0.5550,  0.4612, -0.2591],\n",
      "        [ 0.2561,  0.3127, -0.4289]], requires_grad=True), Parameter containing:\n",
      "tensor([ 0.3894,  0.3136, -0.3341,  0.4260], requires_grad=True), Parameter containing:\n",
      "tensor([[ 0.4476, -0.1449, -0.1200,  0.4762]], requires_grad=True), Parameter containing:\n",
      "tensor([0.0802], requires_grad=True)]\n",
      "[Parameter containing:\n",
      "tensor([[ 0.1638,  0.3244, -0.0308, -0.3449],\n",
      "        [-0.1192, -0.4191, -0.4503,  0.4029],\n",
      "        [ 0.2735,  0.4003, -0.0317, -0.2537],\n",
      "        [ 0.0182, -0.3743,  0.0797, -0.2049],\n",
      "        [-0.3190,  0.2987, -0.2477, -0.4538],\n",
      "        [-0.4307,  0.3057,  0.0184, -0.0692],\n",
      "        [ 0.1070,  0.1515,  0.0853, -0.4439],\n",
      "        [ 0.2560, -0.4953, -0.2089,  0.3581],\n",
      "        [ 0.1996,  0.1609,  0.0887, -0.3851],\n",
      "        [-0.1657, -0.1701,  0.4240, -0.4716]], requires_grad=True), Parameter containing:\n",
      "tensor([ 0.1651,  0.0991,  0.3002, -0.0165, -0.3957, -0.2962, -0.0523,  0.0326,\n",
      "        -0.3816, -0.2148], requires_grad=True)]\n"
     ]
    }
   ],
   "source": [
    "# for transfer learning\n",
    "model = MLP()\n",
    "print([p for p in model.parameters() if p.requires_grad])\n",
    "\n",
    "for p in model.parameters(): # freeze all layers\n",
    "    p.requires_grad = False\n",
    "\n",
    "model.fc_out = nn.Linear(4,10)\n",
    "\n",
    "params = [p for p in model.parameters() if p.requires_grad]\n",
    "print(params)\n",
    "\n",
    "from torch import optim\n",
    "optimizer = optim.Adam(params, lr=0.1)"
   ]
  },
  {
   "cell_type": "code",
   "execution_count": 23,
   "id": "97efd235-1308-4025-a480-1832b5db65ad",
   "metadata": {},
   "outputs": [
    {
     "data": {
      "text/plain": [
       "[('fc1.0.weight',\n",
       "  Parameter containing:\n",
       "  tensor([[-0.0446, -0.5147],\n",
       "          [-0.6061, -0.6079],\n",
       "          [-0.3588,  0.3693]])),\n",
       " ('fc1.0.bias',\n",
       "  Parameter containing:\n",
       "  tensor([0.3321, 0.6777, 0.0884])),\n",
       " ('fc2.0.weight',\n",
       "  Parameter containing:\n",
       "  tensor([[ 0.0613, -0.4069, -0.0708],\n",
       "          [-0.0148,  0.2663, -0.2451],\n",
       "          [-0.5550,  0.4612, -0.2591],\n",
       "          [ 0.2561,  0.3127, -0.4289]])),\n",
       " ('fc2.0.bias',\n",
       "  Parameter containing:\n",
       "  tensor([ 0.3894,  0.3136, -0.3341,  0.4260])),\n",
       " ('fc_out.weight',\n",
       "  Parameter containing:\n",
       "  tensor([[ 0.1638,  0.3244, -0.0308, -0.3449],\n",
       "          [-0.1192, -0.4191, -0.4503,  0.4029],\n",
       "          [ 0.2735,  0.4003, -0.0317, -0.2537],\n",
       "          [ 0.0182, -0.3743,  0.0797, -0.2049],\n",
       "          [-0.3190,  0.2987, -0.2477, -0.4538],\n",
       "          [-0.4307,  0.3057,  0.0184, -0.0692],\n",
       "          [ 0.1070,  0.1515,  0.0853, -0.4439],\n",
       "          [ 0.2560, -0.4953, -0.2089,  0.3581],\n",
       "          [ 0.1996,  0.1609,  0.0887, -0.3851],\n",
       "          [-0.1657, -0.1701,  0.4240, -0.4716]], requires_grad=True)),\n",
       " ('fc_out.bias',\n",
       "  Parameter containing:\n",
       "  tensor([ 0.1651,  0.0991,  0.3002, -0.0165, -0.3957, -0.2962, -0.0523,  0.0326,\n",
       "          -0.3816, -0.2148], requires_grad=True))]"
      ]
     },
     "execution_count": 23,
     "metadata": {},
     "output_type": "execute_result"
    }
   ],
   "source": [
    "list(model.named_parameters())\n",
    "# [('layer0.weight', weight), ('layer0.bias', bias), ('layer1.weight', weight), ('layer1.bias', bias), ...]"
   ]
  },
  {
   "cell_type": "code",
   "execution_count": 24,
   "id": "3c4e8836-2bb8-4368-8390-63e68420b0f5",
   "metadata": {},
   "outputs": [
    {
     "name": "stdout",
     "output_type": "stream",
     "text": [
      "fc1.0.weight\n",
      "Parameter containing:\n",
      "tensor([[-0.0446, -0.5147],\n",
      "        [-0.6061, -0.6079],\n",
      "        [-0.3588,  0.3693]])\n",
      "fc1.0.bias\n",
      "Parameter containing:\n",
      "tensor([0.3321, 0.6777, 0.0884])\n",
      "fc2.0.weight\n",
      "Parameter containing:\n",
      "tensor([[ 0.0613, -0.4069, -0.0708],\n",
      "        [-0.0148,  0.2663, -0.2451],\n",
      "        [-0.5550,  0.4612, -0.2591],\n",
      "        [ 0.2561,  0.3127, -0.4289]])\n",
      "fc2.0.bias\n",
      "Parameter containing:\n",
      "tensor([ 0.3894,  0.3136, -0.3341,  0.4260])\n",
      "fc_out.weight\n",
      "Parameter containing:\n",
      "tensor([[ 0.1638,  0.3244, -0.0308, -0.3449],\n",
      "        [-0.1192, -0.4191, -0.4503,  0.4029],\n",
      "        [ 0.2735,  0.4003, -0.0317, -0.2537],\n",
      "        [ 0.0182, -0.3743,  0.0797, -0.2049],\n",
      "        [-0.3190,  0.2987, -0.2477, -0.4538],\n",
      "        [-0.4307,  0.3057,  0.0184, -0.0692],\n",
      "        [ 0.1070,  0.1515,  0.0853, -0.4439],\n",
      "        [ 0.2560, -0.4953, -0.2089,  0.3581],\n",
      "        [ 0.1996,  0.1609,  0.0887, -0.3851],\n",
      "        [-0.1657, -0.1701,  0.4240, -0.4716]], requires_grad=True)\n",
      "fc_out.bias\n",
      "Parameter containing:\n",
      "tensor([ 0.1651,  0.0991,  0.3002, -0.0165, -0.3957, -0.2962, -0.0523,  0.0326,\n",
      "        -0.3816, -0.2148], requires_grad=True)\n"
     ]
    }
   ],
   "source": [
    "for name, p in model.named_parameters():\n",
    "    print(name)\n",
    "    print(p)"
   ]
  },
  {
   "cell_type": "code",
   "execution_count": 25,
   "id": "39aea4e8-5ac4-4e8e-abd0-76d2bdc4c202",
   "metadata": {},
   "outputs": [
    {
     "data": {
      "text/plain": [
       "<generator object Module.modules at 0x1252983c0>"
      ]
     },
     "execution_count": 25,
     "metadata": {},
     "output_type": "execute_result"
    }
   ],
   "source": [
    "model.modules()"
   ]
  },
  {
   "cell_type": "code",
   "execution_count": 27,
   "id": "09915c8a-8e19-42d8-9283-31392dfe29c7",
   "metadata": {},
   "outputs": [
    {
     "data": {
      "text/plain": [
       "[MLP(\n",
       "   (fc1): Sequential(\n",
       "     (0): Linear(in_features=2, out_features=3, bias=True)\n",
       "     (1): ReLU()\n",
       "   )\n",
       "   (fc2): Sequential(\n",
       "     (0): Linear(in_features=3, out_features=4, bias=True)\n",
       "     (1): ReLU()\n",
       "   )\n",
       "   (fc_out): Linear(in_features=4, out_features=10, bias=True)\n",
       " ),\n",
       " Sequential(\n",
       "   (0): Linear(in_features=2, out_features=3, bias=True)\n",
       "   (1): ReLU()\n",
       " ),\n",
       " Linear(in_features=2, out_features=3, bias=True),\n",
       " ReLU(),\n",
       " Sequential(\n",
       "   (0): Linear(in_features=3, out_features=4, bias=True)\n",
       "   (1): ReLU()\n",
       " ),\n",
       " Linear(in_features=3, out_features=4, bias=True),\n",
       " ReLU(),\n",
       " Linear(in_features=4, out_features=10, bias=True)]"
      ]
     },
     "execution_count": 27,
     "metadata": {},
     "output_type": "execute_result"
    }
   ],
   "source": [
    "list(model.modules())"
   ]
  },
  {
   "cell_type": "code",
   "execution_count": 33,
   "id": "05798e14-9aa4-410e-9ca5-fdac4f07c9fa",
   "metadata": {},
   "outputs": [
    {
     "name": "stdout",
     "output_type": "stream",
     "text": [
      "[Linear(in_features=2, out_features=3, bias=True), Linear(in_features=3, out_features=4, bias=True), Linear(in_features=4, out_features=10, bias=True)]\n",
      "====================================================================================================\n",
      "[Parameter containing:\n",
      "tensor([[-0.0446, -0.5147],\n",
      "        [-0.6061, -0.6079],\n",
      "        [-0.3588,  0.3693]]), Parameter containing:\n",
      "tensor([[ 0.0613, -0.4069, -0.0708],\n",
      "        [-0.0148,  0.2663, -0.2451],\n",
      "        [-0.5550,  0.4612, -0.2591],\n",
      "        [ 0.2561,  0.3127, -0.4289]]), Parameter containing:\n",
      "tensor([[ 0.1638,  0.3244, -0.0308, -0.3449],\n",
      "        [-0.1192, -0.4191, -0.4503,  0.4029],\n",
      "        [ 0.2735,  0.4003, -0.0317, -0.2537],\n",
      "        [ 0.0182, -0.3743,  0.0797, -0.2049],\n",
      "        [-0.3190,  0.2987, -0.2477, -0.4538],\n",
      "        [-0.4307,  0.3057,  0.0184, -0.0692],\n",
      "        [ 0.1070,  0.1515,  0.0853, -0.4439],\n",
      "        [ 0.2560, -0.4953, -0.2089,  0.3581],\n",
      "        [ 0.1996,  0.1609,  0.0887, -0.3851],\n",
      "        [-0.1657, -0.1701,  0.4240, -0.4716]], requires_grad=True)]\n",
      "====================================================================================================\n",
      "[None, None, None]\n"
     ]
    }
   ],
   "source": [
    "print([m for m in model.modules() if isinstance(m,nn.Linear)])\n",
    "print('='*100)\n",
    "print([m.weight for m in model.modules() if isinstance(m,nn.Linear)])\n",
    "print('='*100)\n",
    "print([m.weight.grad for m in model.modules() if isinstance(m,nn.Linear)])"
   ]
  },
  {
   "cell_type": "code",
   "execution_count": 35,
   "id": "04a1f427-f9c9-4882-aa47-b02364243455",
   "metadata": {},
   "outputs": [
    {
     "name": "stdout",
     "output_type": "stream",
     "text": [
      "[Parameter containing:\n",
      "tensor([[ 0.5670, -0.0343],\n",
      "        [ 1.8016, -0.4220],\n",
      "        [ 0.3171,  0.3611]]), Parameter containing:\n",
      "tensor([[-1.4606, -1.9580, -0.4722],\n",
      "        [ 0.6781,  1.4849,  0.3239],\n",
      "        [-1.0499, -0.7866, -1.1500],\n",
      "        [-0.4202, -1.8598, -0.3321]]), Parameter containing:\n",
      "tensor([[-0.5432,  0.7104, -0.0659, -0.1110],\n",
      "        [ 0.1235, -0.2710,  0.4636, -0.7608],\n",
      "        [ 1.0782,  0.4037, -1.1682,  0.1440],\n",
      "        [-0.2082,  0.2691, -0.0986,  0.2202],\n",
      "        [-0.9084,  1.0514,  1.1327,  0.1640],\n",
      "        [-0.5923,  0.0770, -0.7696, -0.6349],\n",
      "        [ 0.2742, -0.0940,  1.2302, -0.9808],\n",
      "        [-1.2743,  1.0752, -0.2211,  0.4223],\n",
      "        [ 0.3793,  0.6303,  0.5048, -1.4283],\n",
      "        [-0.2779,  0.1493, -0.2957,  0.8790]], requires_grad=True)]\n"
     ]
    }
   ],
   "source": [
    "# use of weight initialization\n",
    "for m in model.modules():\n",
    "    if isinstance(m, nn.Linear):\n",
    "        nn.init.kaiming_normal_(m.weight)\n",
    "        # nn.init.constant_(m.weight, 1)\n",
    "\n",
    "print([m.weight for m in model.modules() if isinstance(m, nn.Linear)])"
   ]
  },
  {
   "cell_type": "code",
   "execution_count": 36,
   "id": "22b58d6f-4746-499a-adef-382acecf31ef",
   "metadata": {},
   "outputs": [
    {
     "data": {
      "text/plain": [
       "<generator object Module.children at 0x1253a7660>"
      ]
     },
     "execution_count": 36,
     "metadata": {},
     "output_type": "execute_result"
    }
   ],
   "source": [
    "model.children()"
   ]
  },
  {
   "cell_type": "code",
   "execution_count": 37,
   "id": "c6e50d69-cc89-433d-9916-8719f782866b",
   "metadata": {},
   "outputs": [
    {
     "data": {
      "text/plain": [
       "[Sequential(\n",
       "   (0): Linear(in_features=2, out_features=3, bias=True)\n",
       "   (1): ReLU()\n",
       " ),\n",
       " Sequential(\n",
       "   (0): Linear(in_features=3, out_features=4, bias=True)\n",
       "   (1): ReLU()\n",
       " ),\n",
       " Linear(in_features=4, out_features=10, bias=True)]"
      ]
     },
     "execution_count": 37,
     "metadata": {},
     "output_type": "execute_result"
    }
   ],
   "source": [
    "list(model.children())"
   ]
  },
  {
   "cell_type": "code",
   "execution_count": 38,
   "id": "8abeb2dd-7430-444c-baf0-f6d21b181b96",
   "metadata": {},
   "outputs": [
    {
     "data": {
      "text/plain": [
       "tensor([[0.3589, 0.7104, 0.1674],\n",
       "        [0.7278, 1.4922, 0.8476]])"
      ]
     },
     "execution_count": 38,
     "metadata": {},
     "output_type": "execute_result"
    }
   ],
   "source": [
    "x = torch.randn(2,2)\n",
    "list(model.children())[0](x)"
   ]
  },
  {
   "cell_type": "code",
   "execution_count": 41,
   "id": "99630698-7f79-4e12-8d79-052b9bfb119e",
   "metadata": {},
   "outputs": [
    {
     "name": "stdout",
     "output_type": "stream",
     "text": [
      "Sequential(\n",
      "  (0): Linear(in_features=2, out_features=3, bias=True)\n",
      "  (1): ReLU()\n",
      ") Sequential(\n",
      "  (0): Linear(in_features=3, out_features=4, bias=True)\n",
      "  (1): ReLU()\n",
      ")\n",
      "Sequential(\n",
      "  (0): Sequential(\n",
      "    (0): Linear(in_features=2, out_features=3, bias=True)\n",
      "    (1): ReLU()\n",
      "  )\n",
      "  (1): Sequential(\n",
      "    (0): Linear(in_features=3, out_features=4, bias=True)\n",
      "    (1): ReLU()\n",
      "  )\n",
      ")\n",
      "tensor([[0.0000, 1.6661, 0.0000, 0.0000],\n",
      "        [0.0000, 3.2974, 0.0000, 0.0000]])\n"
     ]
    }
   ],
   "source": [
    "print(*list(model.children())[:2])\n",
    "sub_network = nn.Sequential(*list(model.children())[:2])\n",
    "print(sub_network)\n",
    "print(sub_network(x))"
   ]
  },
  {
   "cell_type": "markdown",
   "id": "ce88dd9a-0c1e-48b6-a207-082e64b55eb5",
   "metadata": {},
   "source": [
    "## ModuleList vs Sequential"
   ]
  },
  {
   "cell_type": "code",
   "execution_count": 48,
   "id": "93e831a8-04ff-4b26-bfa1-92e1c9dae1c7",
   "metadata": {},
   "outputs": [
    {
     "name": "stdout",
     "output_type": "stream",
     "text": [
      "Sequential(\n",
      "  (0): Linear(in_features=3, out_features=3, bias=True)\n",
      "  (1): Linear(in_features=3, out_features=3, bias=True)\n",
      "  (2): Linear(in_features=3, out_features=3, bias=True)\n",
      "  (3): Linear(in_features=3, out_features=3, bias=True)\n",
      "  (4): Linear(in_features=3, out_features=3, bias=True)\n",
      ")\n",
      "ModuleList(\n",
      "  (0-4): 5 x Linear(in_features=3, out_features=3, bias=True)\n",
      ")\n",
      "tensor([[ 0.9100, -0.7000, -0.7797]], grad_fn=<AddmmBackward0>)\n",
      "tensor([[ 0.9100, -0.7000, -0.7797]], grad_fn=<AddmmBackward0>)\n"
     ]
    }
   ],
   "source": [
    "fc = nn.Linear(3,3)\n",
    "layer_list = [fc for _ in range(5)]\n",
    "layers1 = nn.Sequential(*layer_list)\n",
    "layers2 = nn.ModuleList(layer_list)   # you don't need '*'\n",
    "print(layers1)\n",
    "print(layers2)\n",
    "\n",
    "x = torch.randn(1,3)\n",
    "print(layers1(x))\n",
    "\n",
    "# print(layers2(x)) error!\n",
    "for layer in layers2:\n",
    "    x = layer(x)\n",
    "print(x)"
   ]
  },
  {
   "cell_type": "code",
   "execution_count": null,
   "id": "33104a62-d994-4a8d-94f0-c2541d19d624",
   "metadata": {},
   "outputs": [],
   "source": [
    "# Why not use list, but use nn.ModuleList?\n",
    "class testNet(nn.Module):\n",
    "    def __init__(self):\n",
    "        super().__init__()\n",
    "\n",
    "        # self.Module_List = [nn.Linear(3,3), nn.Linear(3,3)]\n",
    "        self.Module_List = nn.ModuleList([nn.Linear(3,3), nn.Linear(3,3)])\n",
    "        \n",
    "    def forward():\n",
    "        for layer in self.Module_List:\n",
    "            x = layer(x)\n",
    "        return x\n",
    "\n",
    "model=testNet()\n",
    "print(model(torch.randn(1,3)))\n",
    "\n",
    "print(model)\n",
    "\n",
    "print([p for p in model.parameters()])\n",
    "optimizer = optim.Adam(model.parameters(), lr=0.1)"
   ]
  }
 ],
 "metadata": {
  "kernelspec": {
   "display_name": "pytorch",
   "language": "python",
   "name": "pytorch"
  },
  "language_info": {
   "codemirror_mode": {
    "name": "ipython",
    "version": 3
   },
   "file_extension": ".py",
   "mimetype": "text/x-python",
   "name": "python",
   "nbconvert_exporter": "python",
   "pygments_lexer": "ipython3",
   "version": "3.9.18"
  }
 },
 "nbformat": 4,
 "nbformat_minor": 5
}
