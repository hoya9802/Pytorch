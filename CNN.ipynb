{
 "cells": [
  {
   "cell_type": "code",
   "execution_count": 12,
   "id": "3bfa59ea-c9c5-46f5-9d5d-43efac400efc",
   "metadata": {},
   "outputs": [],
   "source": [
    "import torch\n",
    "import copy\n",
    "import albumentations as A\n",
    "from albumentations.pytorch import ToTensorV2\n",
    "from torch import nn, optim\n",
    "from torchvision import datasets, transforms\n",
    "import cv2\n",
    "import matplotlib.pyplot as plt\n",
    "from functions2 import *"
   ]
  },
  {
   "cell_type": "code",
   "execution_count": 2,
   "id": "115f272b-a25a-4ece-96dc-41ce4a3fb179",
   "metadata": {},
   "outputs": [
    {
     "name": "stdout",
     "output_type": "stream",
     "text": [
      "mps\n"
     ]
    }
   ],
   "source": [
    "# Window version\n",
    "# DEVICE = 'cuda' if torch.cuda.is_available() else 'cpu'\n",
    "\n",
    "# M1 MAC version\n",
    "DEVICE = torch.device('mps' if torch.backends.mps.is_available() else 'cpu')\n",
    "\n",
    "print(DEVICE)"
   ]
  },
  {
   "cell_type": "code",
   "execution_count": 3,
   "id": "ff759f60-88e8-4b70-8726-fc0d6af475ad",
   "metadata": {},
   "outputs": [],
   "source": [
    "BATCH_SIZE = 32\n",
    "LR = 1e-3\n",
    "LR_STEP = 3\n",
    "LR_GAMMA = 0.9\n",
    "EPOCH = 15\n",
    "train_ratio = 0.8\n",
    "criterion = nn.CrossEntropyLoss()\n",
    "new_model_train = True\n",
    "model_type = 'CNN_deep'\n",
    "dataset = \"STL10\"\n",
    "save_model_path = f'/Users/euntaeklee/Git_Project/Pytorch/result/{model_type}_{dataset}.pt'\n",
    "save_history_path = f'/Users/euntaeklee/Git_Project/Pytorch/result/{model_type}_history_{dataset}.pt'"
   ]
  },
  {
   "cell_type": "code",
   "execution_count": 4,
   "id": "a563fd6c-3e1b-4f53-890b-f610e7d372e8",
   "metadata": {},
   "outputs": [],
   "source": [
    "def to_uint8(x):\n",
    "    return (255*x).type(torch.uint8)"
   ]
  },
  {
   "cell_type": "code",
   "execution_count": 5,
   "id": "ddbaa119-6272-4c65-8361-ba0cd11d1e24",
   "metadata": {},
   "outputs": [],
   "source": [
    "transform_train = transforms.Compose([\n",
    "    transforms.ToTensor(),\n",
    "\n",
    "    # transforms.Lambda(to_uint8),\n",
    "    # to_uint8,\n",
    "    # transforms.Lambda(lambda x:(255*x).type(torch.uint8)),\n",
    "    # lambda x:(255*x).type(torch.uint8),\n",
    "    transforms.Normalize((0.485, 0.456, 0.406), (0.229, 0.224, 0.225)),\n",
    "    # (maybe) Average, std value obtained for all pixels of ImageNet data\n",
    "    \n",
    "    # transforms.Resize(size=(20,20)),  # size is (height, width)\n",
    "    # transforms.Pad(6), # 20+6*2 = 32\n",
    "    # transforms.RandomApply(nn.ModuleList([transforms.CenterCrop(size=(20,20)),\n",
    "    #                                       transforms.Pad(6)]), p=0.5)   # you don't have to use ModuleList\n",
    "    # transforms.RandomCrop(size=(20,20)),  # randomly crop\n",
    "    # transforms.RandomResizedCrop(size=(20,20), scale=(0.3,1), ratio=(0.3,1.7)), \n",
    "    # ramdomly crop first and then resize! it isn't same with RandomCrop\n",
    "    # scale means How small is it to cut (0~1)\n",
    "    # ratio is aspect ratio, so it means width/height\n",
    "    # (a,b) <- select a to b using uniform random\n",
    "\n",
    "    # transforms.RandomGrayscale(p=0.5), # change image to gray scale, but keep 3 dim\n",
    "    # transforms.ColorJitter(brightness=0.9, contrast=0.3, saturation=0.5, hue=0.15),\n",
    "    # Considering that brightness, contrast, saturation, and hue may vary from sensor to sensor\n",
    "    # Increasing the brightness results in convergence in bright areas and can respond to sensors with low HDR\n",
    "    # Contrast \baugmentation can accommodate sensors with different HDRs!\n",
    "    # Color representation available for different sensors\n",
    "    # transforms.RandomAutocontrast(p=0.5), # Automatically adjust contrast with probability of p\n",
    "    # transforms.RandomEqualize(p=0.5), # Match r,g,b histogram with probability of p (this is only for images with uint8)\n",
    "    # transforms.RandomInvert(p=0.5), # Color reversal with probability of p\n",
    "    # New Pixel Value = Max Value - Existing Pixel Value\n",
    "    # transforms.RandomSolarize(threshold=200, p=0.5),\n",
    "    # Inverting for pixel values exceeding threshold with probability of p\n",
    "    # transforms.RandomPosterize(bits=3, p=0.5),\n",
    "    # Change the number of bits (0-8) of the value of a pixel to bits with a probability of p (this is only possible with uint8)\n",
    "\n",
    "    # transforms.GaussianBlur(kernel_size=(5,5), sigma=(0.1,2)),\n",
    "    # kerenl_size = (width, height) sigma = (min, max) uniformly select between min ~ max\n",
    "    # transforms.RandomAdjustSharpness(sharpness_factor=2, p=0.5),\n",
    "    # sharpness_factor = 1 is the original image. Closer to 0 is blur and greater than 1 is sharper\n",
    "\n",
    "    # transforms.RandomHorizontalFlip(p=0.4), # Horizontal Flip with probability of p\n",
    "    # transforms.RandomVerticalFlip(p=0.8), # Vertical Flip with probability of p\n",
    "    # transforms.RandomRotation(degrees=(0,180)), # Rotating randomly from 0 to 180 degrees\n",
    "    # transforms.RandomAffine(degrees=(0,30), translate=(0.1, 0.3), scale=(0.5,1.2)),\n",
    "    # translate is ratio of movement, scale is adjusting size\n",
    "    # transforms.RandomPerspective(distortion_scale=0.6, p=0.5),\n",
    "\n",
    "    # transforms.RandomErasing(p=0.5, scale=(0.03,0.3), ratio=(0.3,3.3)),\n",
    "    # scale: How many percent of the image should I erase\n",
    "    # ratio: The aspect ratio of the area to be erased\n",
    "\n",
    "    # transforms.AutoAugment(transforms.AutoAugmentPolicy.CIFAR10),\n",
    "    # transforms.AutoAugment(transforms.AutoAugmentPolicy.IMAGENET),\n",
    "    # transforms.AutoAugment(transforms.AutoAugmentPolicy.SVHN),\n",
    "    # AutoAugment: Amplification method in a paper called \"Learning Augmentation Strategies from Data\" (must be uint8)\n",
    "    # transforms.RandAugment(),\n",
    "    # RandAugment: Amplification method in a paper called \"Practical automated data augmentation with a reduced search space\"\n",
    "    # transforms.TrivialAugmentWide(),\n",
    "    # TrivialAugment: Amplification method in a paper called \"Tuning-free Yet State-of-the-Art Data Augmentation\" (Must be uint8)\n",
    "    # transforms.AugMix(),\n",
    "    # AugMix: Amplification method in a paper called \"A Simple Data Processing Method to Improve Robustness and Uncertainty\" (must be uint8)\n",
    "    \n",
    "    ])\n",
    "transform_test = transforms.ToTensor()"
   ]
  },
  {
   "cell_type": "code",
   "execution_count": 6,
   "id": "57453b27-4ba9-4ca0-978d-c5f4a4c8b05c",
   "metadata": {},
   "outputs": [
    {
     "name": "stdout",
     "output_type": "stream",
     "text": [
      "Files already downloaded and verified\n",
      "Files already downloaded and verified\n"
     ]
    }
   ],
   "source": [
    "transform = transforms.ToTensor()\n",
    "# CIFAR10 dataset\n",
    "train_DS = datasets.CIFAR10(root='/Users/euntaeklee/Git_Project/data', train=True, download=True, transform=transform)\n",
    "test_DS = datasets.CIFAR10(root='/Users/euntaeklee/Git_Project/data', train=False, download=True, transform=transform)\n",
    "# STL10 dataset\n",
    "# train_DS = datasets.STL10(root='/Users/euntaeklee/Git_Project/data', split='train', download=True, transform=transform)\n",
    "NoT = int(len(train_DS)*train_ratio); NoV = len(train_DS) - NoT\n",
    "train_DS, val_DS = torch.utils.data.random_split(train_DS, [NoT, NoV])\n",
    "val_DS.transform = transform_test\n",
    "# test_DS = datasets.STL10(root='/Users/euntaeklee/Git_Project/data', split='test', download=True, transform=transform)\n",
    "\n",
    "train_DL = torch.utils.data.DataLoader(train_DS, batch_size=BATCH_SIZE, shuffle=True)\n",
    "val_DL = torch.utils.data.DataLoader(val_DS, batch_size=BATCH_SIZE, shuffle=False)\n",
    "test_DL = torch.utils.data.DataLoader(test_DS, batch_size=BATCH_SIZE, shuffle=False)"
   ]
  },
  {
   "cell_type": "code",
   "execution_count": 19,
   "id": "729eec8f-60ba-46a0-ba38-2c7cb179a590",
   "metadata": {},
   "outputs": [
    {
     "name": "stdout",
     "output_type": "stream",
     "text": [
      "Files already downloaded and verified\n"
     ]
    }
   ],
   "source": [
    "# Uncomment only when you use albumentation\n",
    "\n",
    "transform_train = A.Compose([\n",
    "    A.Resize(20,20),\n",
    "    A.HorizontalFlip(p=0.5),\n",
    "    A.VerticalFlip(p=0.5),\n",
    "\n",
    "    A.ShiftScaleRotate(shift_limit=(-0.05,0.05), scale_limit=(0,0), rotate_limit=(-10,10), p=0.7, border_mode=cv2.BORDER_CONSTANT),\n",
    "    A.RandomResizedCrop(height=20, width=20, scale=(0.3,1), ratio=(0.75,1.33), p=0.7),\n",
    "    \n",
    "    A.RandomBrightnessContrast(brightness_limit=(-0.2, 0.2), contrast_limit=(-0.2, 0.2), p=0.8),\n",
    "\n",
    "    A.OneOf([\n",
    "        A.ElasticTransform(p=1, sigma=30, alpha=10, alpha_affine=5),\n",
    "        # sigma is the interval, alpha is the twist, alpha_affine is the degree in affine transform\n",
    "        A.GridDistortion(p=1), # Split into grid and disable each patch\n",
    "        A.OpticalDistortion(p=1, distort_limit=1, shift_limit=0.5),\n",
    "        # How much the center of distort_limit protrudes out (0~1), how much image shift_limit will push (0~1)\n",
    "        ], p=1),\n",
    "\n",
    "    # A.Normalize(), # This function is supposed to have an image with a default of 0 to 255, so normalization first.\n",
    "    ToTensorV2()])\n",
    "\n",
    "transform_test = ToTensorV2() # Uint8,0~255 is the same, only change to \bTensor, \"numberxchannelxrowxcolumn\"\n",
    "\n",
    "class CIFAR10_custom(datasets.CIFAR10):\n",
    "    def __init__(self, root='/Users/euntaeklee/Git_Project/data', train=True, download=True, transform=None):\n",
    "        super().__init__(root=root, train=train, download=download, transform=transform)\n",
    "\n",
    "    def __getitem__(self, index):\n",
    "        image = self.data[index]\n",
    "        label = self.targets[index]\n",
    "\n",
    "        if self.transform is not None:\n",
    "            transformed = self.transform(image=image) # self.transform(image=image, mask=mask)\n",
    "            image = transformed['image']\n",
    "            # mask = transformed['mask'] for sementic segmentation\n",
    "\n",
    "        return image, label\n",
    "\n",
    "test_DS = CIFAR10_custom(root = '/Users/euntaeklee/Git_Project/data', train=False, download=True, transform=transform_test)\n",
    "test_DL = torch.utils.data.DataLoader(test_DS, batch_size = BATCH_SIZE, shuffle = False)"
   ]
  },
  {
   "cell_type": "code",
   "execution_count": 20,
   "id": "ff088a6e-a6a5-4452-a676-248ccaec450b",
   "metadata": {},
   "outputs": [
    {
     "name": "stdout",
     "output_type": "stream",
     "text": [
      "x_batch size = torch.Size([32, 3, 32, 32])\n",
      "x_batch size = torch.Size([32, 3, 20, 20])\n"
     ]
    },
    {
     "data": {
      "image/png": "[encoded data removed]",
      "text/plain": [
       "<Figure size 800x400 with 6 Axes>"
      ]
     },
     "metadata": {},
     "output_type": "display_data"
    },
    {
     "data": {
      "image/png": "[encoded data removed]",
      "text/plain": [
       "<Figure size 800x400 with 6 Axes>"
      ]
     },
     "metadata": {},
     "output_type": "display_data"
    }
   ],
   "source": [
    "test_DS_wT = copy.deepcopy(test_DS)\n",
    "test_DS_wT.transform = transform_train\n",
    "test_DL_wT = torch.utils.data.DataLoader(test_DS_wT, batch_size = BATCH_SIZE, shuffle = False)\n",
    "\n",
    "im_plot(test_DL)\n",
    "im_plot(test_DL_wT)"
   ]
  },
  {
   "cell_type": "code",
   "execution_count": 8,
   "id": "fcaa97d0-ad8b-4e66-814a-2d51c6897d76",
   "metadata": {},
   "outputs": [
    {
     "name": "stdout",
     "output_type": "stream",
     "text": [
      "40000\n",
      "10000\n",
      "10000\n"
     ]
    }
   ],
   "source": [
    "print(len(train_DS))\n",
    "print(len(val_DS))\n",
    "print(len(test_DS))"
   ]
  },
  {
   "cell_type": "code",
   "execution_count": 9,
   "id": "3383d2ce-324e-4b78-8215-a461edcaf2c8",
   "metadata": {},
   "outputs": [
    {
     "name": "stdout",
     "output_type": "stream",
     "text": [
      "['airplane', 'automobile', 'bird', 'cat', 'deer', 'dog', 'frog', 'horse', 'ship', 'truck']\n",
      "{'airplane': 0, 'automobile': 1, 'bird': 2, 'cat': 3, 'deer': 4, 'dog': 5, 'frog': 6, 'horse': 7, 'ship': 8, 'truck': 9}\n",
      "torch.Size([32, 3, 32, 32])\n",
      "cat\n"
     ]
    },
    {
     "data": {
      "image/png": "[encoded data removed]",
      "text/plain": [
       "<Figure size 640x480 with 1 Axes>"
      ]
     },
     "metadata": {},
     "output_type": "display_data"
    }
   ],
   "source": [
    "print(test_DS.classes)\n",
    "print(test_DS.class_to_idx)\n",
    "x_batch, y_batch = next(iter(test_DL))\n",
    "print(x_batch.shape)\n",
    "plt.imshow(x_batch[0].permute(1,2,0))\n",
    "print(test_DS.classes[y_batch[0]])"
   ]
  },
  {
   "cell_type": "code",
   "execution_count": null,
   "id": "7b2e07b5-130e-40c3-b701-ef213ed222a9",
   "metadata": {},
   "outputs": [],
   "source": [
    "# 1. change to tensor\n",
    "# 2. change to \"numxchannelxrowxcolumn\"\n",
    "# 3, change into 0 to 1 (int -> float)\n",
    "print(type(train_DS.data))\n",
    "print(train_DS.data.shape)\n",
    "print(train_DS.data.dtype)\n",
    "print(train_DS.data[0][0][0][0])\n",
    "x_batch, y_batch = next(iter(train_DL)) # select one by using next(iter(train_DS))\n",
    "print(type(x_batch))\n",
    "print(x_batch.shape)\n",
    "print(x_batch.dtype)\n",
    "print(x_batch[0][0][0][0])"
   ]
  },
  {
   "cell_type": "code",
   "execution_count": 21,
   "id": "03ffc5ca-b078-45a6-85f4-0fb48d5b20ec",
   "metadata": {},
   "outputs": [],
   "source": [
    "class CNN(nn.Module):\n",
    "    def __init__(self):\n",
    "        super().__init__()\n",
    "\n",
    "        self.conv1 = nn.Sequential(\n",
    "            nn.Conv2d(3,8,3,padding=1),\n",
    "            nn.BatchNorm2d(8),\n",
    "            nn.ReLU())\n",
    "        self.conv2 = nn.Sequential(\n",
    "            nn.Conv2d(8,16,3,padding=1),\n",
    "            nn.BatchNorm2d(16),\n",
    "            nn.ReLU())\n",
    "        self.conv3 = nn.Sequential(\n",
    "            nn.Conv2d(16,32,3,padding=1),\n",
    "            nn.BatchNorm2d(32),\n",
    "            nn.ReLU())\n",
    "        self.maxp = nn.MaxPool2d(2)\n",
    "        self.fc = nn.Linear(32*4*4,10)\n",
    "\n",
    "    def forward(self, x):\n",
    "        x = self.conv1(x) \n",
    "        x = self.maxp(x)\n",
    "        x = self.conv2(x)\n",
    "        x = self.maxp(x)\n",
    "        x = self.conv3(x)\n",
    "        x = self.maxp(x)\n",
    "        x = torch.flatten(x, start_dim=1)\n",
    "        x = self.fc(x)\n",
    "        return x\n",
    "\n",
    "class CNN_deep(nn.Module):\n",
    "    def __init__(self):\n",
    "        super().__init__()\n",
    "        self.conv_block1 = nn.Sequential(\n",
    "            nn.Conv2d(3,32,3,padding=1),\n",
    "            nn.BatchNorm2d(32),\n",
    "            nn.ReLU(),\n",
    "            nn.Conv2d(32,32,3,padding=1),\n",
    "            nn.BatchNorm2d(32),\n",
    "            nn.ReLU())\n",
    "        \n",
    "        self.maxp = nn.MaxPool2d(2)\n",
    "\n",
    "        self.conv_block2 = nn.Sequential(\n",
    "            nn.Conv2d(32,64,3,padding=1),\n",
    "            nn.BatchNorm2d(64),\n",
    "            nn.ReLU(),\n",
    "            nn.Conv2d(64,64,3,padding=1),\n",
    "            nn.BatchNorm2d(64),\n",
    "            nn.ReLU(),\n",
    "            nn.Conv2d(64,64,3,padding=1),\n",
    "            nn.BatchNorm2d(64),\n",
    "            nn.ReLU())\n",
    "\n",
    "        self.conv_block3 = nn.Sequential(\n",
    "            nn.Conv2d(64,128,3,padding=1),\n",
    "            nn.BatchNorm2d(128),\n",
    "            nn.ReLU(),\n",
    "            nn.Conv2d(128,128,3,padding=1),\n",
    "            nn.BatchNorm2d(128),\n",
    "            nn.ReLU(),\n",
    "            nn.Conv2d(128,128,3,padding=1),\n",
    "            nn.BatchNorm2d(128),\n",
    "            nn.ReLU())\n",
    "\n",
    "        self.classifier = nn.Sequential(\n",
    "            nn.Linear(128*12*12,512),\n",
    "            nn.Linear(512,10))\n",
    "        \n",
    "    def forward(self, x):\n",
    "        x = self.conv_block1(x)\n",
    "        x = self.maxp(x)\n",
    "        x = self.conv_block2(x)\n",
    "        x = self.maxp(x)\n",
    "        x = self.conv_block3(x)\n",
    "        x = self.maxp(x)\n",
    "        x = torch.flatten(x, start_dim=1)\n",
    "        x = self.classifier(x)\n",
    "        \n",
    "        return x"
   ]
  },
  {
   "cell_type": "code",
   "execution_count": 22,
   "id": "7ba249aa-c38d-43a0-8070-51a591041e45",
   "metadata": {},
   "outputs": [
    {
     "name": "stdout",
     "output_type": "stream",
     "text": [
      "CNN_deep(\n",
      "  (conv_block1): Sequential(\n",
      "    (0): Conv2d(3, 32, kernel_size=(3, 3), stride=(1, 1), padding=(1, 1))\n",
      "    (1): BatchNorm2d(32, eps=1e-05, momentum=0.1, affine=True, track_running_stats=True)\n",
      "    (2): ReLU()\n",
      "    (3): Conv2d(32, 32, kernel_size=(3, 3), stride=(1, 1), padding=(1, 1))\n",
      "    (4): BatchNorm2d(32, eps=1e-05, momentum=0.1, affine=True, track_running_stats=True)\n",
      "    (5): ReLU()\n",
      "  )\n",
      "  (maxp): MaxPool2d(kernel_size=2, stride=2, padding=0, dilation=1, ceil_mode=False)\n",
      "  (conv_block2): Sequential(\n",
      "    (0): Conv2d(32, 64, kernel_size=(3, 3), stride=(1, 1), padding=(1, 1))\n",
      "    (1): BatchNorm2d(64, eps=1e-05, momentum=0.1, affine=True, track_running_stats=True)\n",
      "    (2): ReLU()\n",
      "    (3): Conv2d(64, 64, kernel_size=(3, 3), stride=(1, 1), padding=(1, 1))\n",
      "    (4): BatchNorm2d(64, eps=1e-05, momentum=0.1, affine=True, track_running_stats=True)\n",
      "    (5): ReLU()\n",
      "    (6): Conv2d(64, 64, kernel_size=(3, 3), stride=(1, 1), padding=(1, 1))\n",
      "    (7): BatchNorm2d(64, eps=1e-05, momentum=0.1, affine=True, track_running_stats=True)\n",
      "    (8): ReLU()\n",
      "  )\n",
      "  (conv_block3): Sequential(\n",
      "    (0): Conv2d(64, 128, kernel_size=(3, 3), stride=(1, 1), padding=(1, 1))\n",
      "    (1): BatchNorm2d(128, eps=1e-05, momentum=0.1, affine=True, track_running_stats=True)\n",
      "    (2): ReLU()\n",
      "    (3): Conv2d(128, 128, kernel_size=(3, 3), stride=(1, 1), padding=(1, 1))\n",
      "    (4): BatchNorm2d(128, eps=1e-05, momentum=0.1, affine=True, track_running_stats=True)\n",
      "    (5): ReLU()\n",
      "    (6): Conv2d(128, 128, kernel_size=(3, 3), stride=(1, 1), padding=(1, 1))\n",
      "    (7): BatchNorm2d(128, eps=1e-05, momentum=0.1, affine=True, track_running_stats=True)\n",
      "    (8): ReLU()\n",
      "  )\n",
      "  (classifier): Sequential(\n",
      "    (0): Linear(in_features=18432, out_features=512, bias=True)\n",
      "    (1): Linear(in_features=512, out_features=10, bias=True)\n",
      "  )\n",
      ")\n"
     ]
    }
   ],
   "source": [
    "exec(f'model = {model_type}()')\n",
    "print(model)"
   ]
  },
  {
   "cell_type": "code",
   "execution_count": null,
   "id": "64817cef-efa7-4e17-b450-c9f30a54a538",
   "metadata": {},
   "outputs": [],
   "source": [
    "if new_model_train:\n",
    "    model = model.to(DEVICE)\n",
    "    optimizer = optim.Adam(model.parameters(), lr=LR)\n",
    "    loss_history = Train(model, train_DL, criterion, optimizer, EPOCH)\n",
    "\n",
    "    torch.save(model, save_model_path)\n",
    "\n",
    "    plt.plot(range(1, EPOCH+1), loss_history)\n",
    "    plt.xlabel('Epoch')\n",
    "    plt.ylabel('Loss')\n",
    "    plt.title('Train Loss')\n",
    "    plt.grid()"
   ]
  },
  {
   "cell_type": "code",
   "execution_count": 24,
   "id": "9091caf0-6400-4426-9dc1-7dadac0a1abd",
   "metadata": {},
   "outputs": [],
   "source": [
    "load_model = torch.load(save_model_path)"
   ]
  },
  {
   "cell_type": "code",
   "execution_count": null,
   "id": "607b105e-5ff3-4e8b-9798-6d8360bc5548",
   "metadata": {},
   "outputs": [],
   "source": [
    "Test(load_model, test_DL)\n",
    "print(count_params(load_model))"
   ]
  },
  {
   "cell_type": "code",
   "execution_count": null,
   "id": "34c74b6e-8548-4c5a-92e7-f5c1b80701f9",
   "metadata": {
    "scrolled": true
   },
   "outputs": [],
   "source": [
    "Test_plot(load_model, test_DL)"
   ]
  },
  {
   "cell_type": "code",
   "execution_count": null,
   "id": "9ff8cd3a-7f65-47e3-9021-091d602709e4",
   "metadata": {},
   "outputs": [],
   "source": []
  }
 ],
 "metadata": {
  "kernelspec": {
   "display_name": "pytorch",
   "language": "python",
   "name": "pytorch"
  },
  "language_info": {
   "codemirror_mode": {
    "name": "ipython",
    "version": 3
   },
   "file_extension": ".py",
   "mimetype": "text/x-python",
   "name": "python",
   "nbconvert_exporter": "python",
   "pygments_lexer": "ipython3",
   "version": "3.9.18"
  }
 },
 "nbformat": 4,
 "nbformat_minor": 5
}
