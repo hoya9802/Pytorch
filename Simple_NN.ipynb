{
 "cells": [
  {
   "cell_type": "markdown",
   "id": "92355a57-0d73-4fbf-9f72-70e0fc0884bc",
   "metadata": {},
   "source": [
    "# Make Simple Neural Network"
   ]
  },
  {
   "cell_type": "code",
   "execution_count": 1,
   "id": "7b534e6c-3062-45a2-85c2-d96e642a7ba1",
   "metadata": {},
   "outputs": [],
   "source": [
    "import torch\n",
    "from torch import nn"
   ]
  },
  {
   "cell_type": "code",
   "execution_count": 19,
   "id": "7c78854b-f9d8-49a1-bd56-e044598901a5",
   "metadata": {},
   "outputs": [
    {
     "name": "stdout",
     "output_type": "stream",
     "text": [
      "Parameter containing:\n",
      "tensor([[-0.7029]], requires_grad=True)\n",
      "Parameter containing:\n",
      "tensor([-0.3070], requires_grad=True)\n",
      "tensor([-1.0099], grad_fn=<AddBackward0>)\n",
      "============================================================\n",
      "tensor([-1.0099], grad_fn=<AddBackward0>)\n"
     ]
    }
   ],
   "source": [
    "x = torch.tensor([1.])\n",
    "model = nn.Linear(1,1)   # 1 linear unit with input node 1, output node 1\n",
    "\n",
    "# Initialize weight, bias of model as you create it\n",
    "print(model.weight)\n",
    "print(model.bias)\n",
    "\n",
    "y = model(x)\n",
    "print(y)\n",
    "print('=='*30)\n",
    "y = x @ model.weight + model.bias\n",
    "print(y)"
   ]
  },
  {
   "cell_type": "code",
   "execution_count": 30,
   "id": "b953330d-2762-449e-b02d-68150d502ce8",
   "metadata": {},
   "outputs": [
    {
     "name": "stdout",
     "output_type": "stream",
     "text": [
      "Parameter containing:\n",
      "tensor([[-0.8834],\n",
      "        [ 0.7991],\n",
      "        [-0.6759]], requires_grad=True)\n",
      "Parameter containing:\n",
      "tensor([0.9296, 0.7428, 0.4460], requires_grad=True)\n",
      "Parameter containing:\n",
      "tensor([[ 0.1581,  0.0042, -0.3152]], requires_grad=True)\n",
      "Parameter containing:\n",
      "tensor([0.1063], requires_grad=True)\n",
      "============================================================\n",
      "tensor([ 0.0463,  1.5420, -0.2298], grad_fn=<AddBackward0>)\n",
      "tensor([0.1926], grad_fn=<AddBackward0>)\n",
      "============================================================\n",
      "tensor([0.1926], grad_fn=<AddBackward0>)\n"
     ]
    }
   ],
   "source": [
    "# fully connected layer\n",
    "fc1 = nn.Linear(1,3)\n",
    "fc2 = nn.Linear(3,1)\n",
    "\n",
    "print(fc1.weight)\n",
    "print(fc1.bias)\n",
    "print(fc2.weight)\n",
    "print(fc2.bias)\n",
    "print('=='*30)\n",
    "x = torch.tensor([1.])\n",
    "x = fc1(x)\n",
    "print(x)\n",
    "x = fc2(x)\n",
    "print(x)\n",
    "print('=='*30)\n",
    "x = torch.tensor([1.])\n",
    "print((x@fc1.weight.T + fc1.bias)@fc2.weight.T + fc2.bias)"
   ]
  },
  {
   "cell_type": "markdown",
   "id": "5d0489b0-9592-4618-a507-1bc92e3e1d08",
   "metadata": {},
   "source": [
    "## Why doesn't nn.Linear() automatically transpose its shape from the start, but instead transpose inside the function and then proceeds with inner product?\n",
    " -  https://pytorch.org/docs/stable/generated/torch.nn.Linear.html\n",
    "### nn.Linear() function want to get the data form (1D data) of \"channel\" in \"number\"x\"channel\"x\"row\"x\"column\"\n",
    "### Node 1 is equal to 1 channel\n",
    "### If you want a lot of data to pass through, you have to give it in the form of the number x channel\n",
    "### why .T? it's because they also want to make weight like numberxchannel form\n",
    "### First of all, \"channel\" in the weight shape in \"number\"x\"channel\" must match the number of pre-channel\n",
    "### for example, nn.Linear(2,3) means The number of channels in front of the weights is 2, so if you convert it to number x channel format, it is ?x2. And we make 3 number of nodes by using 2 nodes. So it become 3(number)x2(channel)."
   ]
  },
  {
   "cell_type": "code",
   "execution_count": null,
   "id": "4e90480a-21e3-433c-985d-633d3b9784f6",
   "metadata": {},
   "outputs": [],
   "source": []
  }
 ],
 "metadata": {
  "kernelspec": {
   "display_name": "pytorch",
   "language": "python",
   "name": "pytorch"
  },
  "language_info": {
   "codemirror_mode": {
    "name": "ipython",
    "version": 3
   },
   "file_extension": ".py",
   "mimetype": "text/x-python",
   "name": "python",
   "nbconvert_exporter": "python",
   "pygments_lexer": "ipython3",
   "version": "3.9.18"
  }
 },
 "nbformat": 4,
 "nbformat_minor": 5
}
